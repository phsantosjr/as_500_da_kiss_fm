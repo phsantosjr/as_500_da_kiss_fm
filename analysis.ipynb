{
 "cells": [
  {
   "cell_type": "code",
   "execution_count": 8,
   "id": "c00c0d28-107c-4f26-ae16-b0ae20064439",
   "metadata": {},
   "outputs": [],
   "source": [
    "import os\n",
    "import pandas as pd\n",
    "import glob"
   ]
  },
  {
   "cell_type": "markdown",
   "id": "6211c392-2441-4bf5-ac33-eddc949c1fce",
   "metadata": {},
   "source": [
    "## Importa os arquivos para um dataframe"
   ]
  },
  {
   "cell_type": "code",
   "execution_count": 3,
   "id": "65573b00-af42-4352-8611-c3b0356ee551",
   "metadata": {},
   "outputs": [],
   "source": [
    "folder_threated = \"resources/bases/tratada/\""
   ]
  },
  {
   "cell_type": "code",
   "execution_count": 57,
   "id": "ffec220a-82d6-459c-96d4-c0dd91f8f971",
   "metadata": {},
   "outputs": [],
   "source": [
    "all_files = glob.glob(folder_threated + \"/*.txt\")\n",
    "\n",
    "li = []\n",
    "\n",
    "for filename in all_files:\n",
    "    df = pd.read_csv(filename, sep=\"|\", names=[\"position\", \"artist\", \"music\"])\n",
    "    df[\"year\"] = filename.split(\"/\")[-1].replace(\"_ok.txt\", \"\")\n",
    "    li.append(df)\n",
    "\n",
    "df = pd.concat(li, ignore_index=True, sort=True)\n",
    "\n",
    "list_total = len(li)"
   ]
  },
  {
   "cell_type": "code",
   "execution_count": 26,
   "id": "60ea1509-10b0-4e74-b86e-74b2181958f7",
   "metadata": {},
   "outputs": [
    {
     "data": {
      "text/html": [
       "<div>\n",
       "<style scoped>\n",
       "    .dataframe tbody tr th:only-of-type {\n",
       "        vertical-align: middle;\n",
       "    }\n",
       "\n",
       "    .dataframe tbody tr th {\n",
       "        vertical-align: top;\n",
       "    }\n",
       "\n",
       "    .dataframe thead th {\n",
       "        text-align: right;\n",
       "    }\n",
       "</style>\n",
       "<table border=\"1\" class=\"dataframe\">\n",
       "  <thead>\n",
       "    <tr style=\"text-align: right;\">\n",
       "      <th></th>\n",
       "      <th>artist</th>\n",
       "      <th>music</th>\n",
       "      <th>position</th>\n",
       "      <th>year</th>\n",
       "    </tr>\n",
       "  </thead>\n",
       "  <tbody>\n",
       "    <tr>\n",
       "      <th>0</th>\n",
       "      <td>METALLICA</td>\n",
       "      <td>FUEL</td>\n",
       "      <td>500</td>\n",
       "      <td>2017</td>\n",
       "    </tr>\n",
       "    <tr>\n",
       "      <th>1</th>\n",
       "      <td>YES</td>\n",
       "      <td>CHANGES</td>\n",
       "      <td>499</td>\n",
       "      <td>2017</td>\n",
       "    </tr>\n",
       "    <tr>\n",
       "      <th>2</th>\n",
       "      <td>LINKIN PARK</td>\n",
       "      <td>IN THE END</td>\n",
       "      <td>498</td>\n",
       "      <td>2017</td>\n",
       "    </tr>\n",
       "    <tr>\n",
       "      <th>3</th>\n",
       "      <td>RUSH</td>\n",
       "      <td>XANADU</td>\n",
       "      <td>497</td>\n",
       "      <td>2017</td>\n",
       "    </tr>\n",
       "    <tr>\n",
       "      <th>4</th>\n",
       "      <td>SYSTEM OF A DOWN</td>\n",
       "      <td>CHOP SUEY!</td>\n",
       "      <td>496</td>\n",
       "      <td>2017</td>\n",
       "    </tr>\n",
       "  </tbody>\n",
       "</table>\n",
       "</div>"
      ],
      "text/plain": [
       "             artist       music  position  year\n",
       "0         METALLICA        FUEL       500  2017\n",
       "1               YES     CHANGES       499  2017\n",
       "2       LINKIN PARK  IN THE END       498  2017\n",
       "3              RUSH      XANADU       497  2017\n",
       "4  SYSTEM OF A DOWN  CHOP SUEY!       496  2017"
      ]
     },
     "execution_count": 26,
     "metadata": {},
     "output_type": "execute_result"
    }
   ],
   "source": [
    "df.head()"
   ]
  },
  {
   "cell_type": "code",
   "execution_count": 32,
   "id": "99c95933-9896-4290-94f2-9d24d698c91e",
   "metadata": {},
   "outputs": [
    {
     "data": {
      "text/plain": [
       "<AxesSubplot:xlabel='year'>"
      ]
     },
     "execution_count": 32,
     "metadata": {},
     "output_type": "execute_result"
    },
    {
     "data": {
      "image/png": "[encoded data removed]",
      "text/plain": [
       "<Figure size 2160x720 with 1 Axes>"
      ]
     },
     "metadata": {
      "needs_background": "light"
     },
     "output_type": "display_data"
    }
   ],
   "source": [
    "groups = df.groupby(['year']).size()\n",
    "groups.plot.bar(figsize=(30,10))"
   ]
  },
  {
   "cell_type": "code",
   "execution_count": 58,
   "id": "0f8ca789-6ba5-424c-9d87-0bf39d86724e",
   "metadata": {},
   "outputs": [
    {
     "name": "stdout",
     "output_type": "stream",
     "text": [
      "Hoje temos 20 arquivos para trabalhar\n"
     ]
    }
   ],
   "source": [
    "print(f\"Hoje temos {list_total} arquivos para trabalhar\")"
   ]
  },
  {
   "cell_type": "markdown",
   "id": "950f5372-d8a2-45a1-9788-e3f0861b50de",
   "metadata": {},
   "source": [
    "## Get TOP 10 artistas da lista\n",
    "\n",
    "Somando todas as listas"
   ]
  },
  {
   "cell_type": "code",
   "execution_count": 41,
   "id": "3d9e4a08-7a1c-4079-a0ed-42f94c25cb5b",
   "metadata": {},
   "outputs": [
    {
     "data": {
      "text/plain": [
       "LED ZEPPELIN    253\n",
       "QUEEN           233\n",
       "THE BEATLES     193\n",
       "AEROSMITH       189\n",
       "PINK FLOYD      175\n",
       "RUSH            173\n",
       "AC/DC           171\n",
       "VAN HALEN       164\n",
       "KISS            159\n",
       "DEEP PURPLE     150\n",
       "Name: artist, dtype: int64"
      ]
     },
     "execution_count": 41,
     "metadata": {},
     "output_type": "execute_result"
    }
   ],
   "source": [
    "df['artist'].value_counts()[:10]"
   ]
  },
  {
   "cell_type": "markdown",
   "id": "cb931b40-8619-468b-b129-df2a23787e9e",
   "metadata": {},
   "source": [
    "## **Get TOP 10 músicas da lista**\n",
    "\n",
    "Não resolve pegar só a música porque tem bandas com músicas com mesmo nome"
   ]
  },
  {
   "cell_type": "code",
   "execution_count": 42,
   "id": "b380f852-360b-4b75-88c6-4122b00a7e89",
   "metadata": {},
   "outputs": [
    {
     "data": {
      "text/plain": [
       "ONE                     26\n",
       "LIKE A ROLLING STONE    23\n",
       "DREAMS                  23\n",
       "SOMEBODY TO LOVE        23\n",
       "REVOLUTION              23\n",
       "CHANGES                 23\n",
       "TIME                    22\n",
       "TURNER OVERDRIVE        21\n",
       "DREAM ON                21\n",
       "JAILBREAK               21\n",
       "Name: music, dtype: int64"
      ]
     },
     "execution_count": 42,
     "metadata": {},
     "output_type": "execute_result"
    }
   ],
   "source": [
    "df['music'].value_counts()[:10]"
   ]
  },
  {
   "cell_type": "code",
   "execution_count": 55,
   "id": "1a8c667e-579d-4ff7-9622-ecc8dfca53a4",
   "metadata": {},
   "outputs": [
    {
     "data": {
      "text/plain": [
       "artist          music                  \n",
       "DEEP PURPLE     PERFECT STRANGERS          20\n",
       "BACHMAN         TURNER OVERDRIVE           20\n",
       "RUSH            TOM SAWYER                 19\n",
       "??              ??                         19\n",
       "LED ZEPPELIN    STAIRWAY TO HEAVEN         19\n",
       "DIRE STRAITS    MONEY FOR NOTHING          19\n",
       "LED ZEPPELIN    BLACK DOG                  19\n",
       "LYNYRD SKYNYRD  SWEET HOME ALABAMA         19\n",
       "GENESIS         MAMA                       19\n",
       "JETHRO TULL     AQUALUNG                   18\n",
       "VAN HALEN       PANAMA                     18\n",
       "BLACK SABBATH   PARANOID                   18\n",
       "VAN HALEN       JUMP                       18\n",
       "PINK FLOYD      TIME                       18\n",
       "AC/DC           BACK IN BLACK              18\n",
       "MIDNIGHT OIL    BEDS ARE BURNING           18\n",
       "YES             OWNER OF A LONELY HEART    18\n",
       "STEPPENWOLF     BORN TO BE WILD            18\n",
       "DEEP PURPLE     SMOKE ON THE WATER         18\n",
       "AC/DC           JAILBREAK                  17\n",
       "QUEEN           WE WILL ROCK YOU           17\n",
       "DIO             RAINBOW IN THE DARK        17\n",
       "PINK FLOYD      MONEY                      17\n",
       "TALKING HEADS   PSYCHO KILLER              17\n",
       "LED ZEPPELIN    KASHMIR                    17\n",
       "FOCUS           HOCUS POCUS                17\n",
       "KISS            DETROIT ROCK CITY          17\n",
       "RUSH            TIME STAND STILL           17\n",
       "DEEP PURPLE     BURN                       17\n",
       "PEARL JAM       BLACK                      17\n",
       "dtype: int64"
      ]
     },
     "execution_count": 55,
     "metadata": {},
     "output_type": "execute_result"
    }
   ],
   "source": [
    "df.groupby(['artist', 'music']).size().sort_values(ascending=False)[:30] "
   ]
  },
  {
   "cell_type": "code",
   "execution_count": 48,
   "id": "154d79ea-9ba6-4b1c-bbf9-12e7c8071d1a",
   "metadata": {},
   "outputs": [
    {
     "name": "stdout",
     "output_type": "stream",
     "text": [
      "{}\n"
     ]
    }
   ],
   "source": []
  },
  {
   "cell_type": "markdown",
   "id": "3891c78a-7c87-4520-99cc-9b75cf5b5ecc",
   "metadata": {},
   "source": [
    "## Quais/quantas músicas estão presentes em todas as listas ?"
   ]
  },
  {
   "cell_type": "code",
   "execution_count": null,
   "id": "689726cb-b26a-46ba-913a-1195583c3c28",
   "metadata": {},
   "outputs": [],
   "source": []
  }
 ],
 "metadata": {
  "kernelspec": {
   "display_name": "Python 3 (ipykernel)",
   "language": "python",
   "name": "python3"
  },
  "language_info": {
   "codemirror_mode": {
    "name": "ipython",
    "version": 3
   },
   "file_extension": ".py",
   "mimetype": "text/x-python",
   "name": "python",
   "nbconvert_exporter": "python",
   "pygments_lexer": "ipython3",
   "version": "3.8.12"
  }
 },
 "nbformat": 4,
 "nbformat_minor": 5
}
