{
 "cells": [
  {
   "cell_type": "code",
   "execution_count": 1,
   "id": "c00c0d28-107c-4f26-ae16-b0ae20064439",
   "metadata": {},
   "outputs": [],
   "source": [
    "import os\n",
    "import pandas as pd\n",
    "import glob"
   ]
  },
  {
   "cell_type": "markdown",
   "id": "6211c392-2441-4bf5-ac33-eddc949c1fce",
   "metadata": {},
   "source": [
    "## Importa os arquivos para um dataframe"
   ]
  },
  {
   "cell_type": "code",
   "execution_count": 2,
   "id": "65573b00-af42-4352-8611-c3b0356ee551",
   "metadata": {},
   "outputs": [],
   "source": [
    "folder_threated = \"resources/bases/tratada/\""
   ]
  },
  {
   "cell_type": "code",
   "execution_count": 3,
   "id": "ffec220a-82d6-459c-96d4-c0dd91f8f971",
   "metadata": {},
   "outputs": [],
   "source": [
    "all_files = glob.glob(folder_threated + \"/*.txt\")\n",
    "\n",
    "li = []\n",
    "\n",
    "for filename in all_files:\n",
    "    df = pd.read_csv(filename, sep=\"|\", names=[\"position\", \"artist\", \"music\"])\n",
    "    df[\"year\"] = filename.split(\"/\")[-1].replace(\"_ok.txt\", \"\")\n",
    "    li.append(df)\n",
    "\n",
    "df = pd.concat(li, ignore_index=True, sort=True)\n",
    "\n",
    "list_total = len(li)"
   ]
  },
  {
   "cell_type": "markdown",
   "id": "42d34105-6371-4edb-94b9-88b0b9218804",
   "metadata": {},
   "source": [
    "## Tratando alguns casos de exceção"
   ]
  },
  {
   "cell_type": "code",
   "execution_count": 4,
   "id": "9617620c-5924-4b21-907f-0905f343e694",
   "metadata": {},
   "outputs": [],
   "source": [
    "df.loc[(df.music == 'HELP!'),'music']='HELP'\n",
    "df.loc[(df.music == 'HEY, JUDE'),'music']='HEY JUDE'"
   ]
  },
  {
   "cell_type": "code",
   "execution_count": 5,
   "id": "60ea1509-10b0-4e74-b86e-74b2181958f7",
   "metadata": {},
   "outputs": [
    {
     "data": {
      "text/html": [
       "<div>\n",
       "<style scoped>\n",
       "    .dataframe tbody tr th:only-of-type {\n",
       "        vertical-align: middle;\n",
       "    }\n",
       "\n",
       "    .dataframe tbody tr th {\n",
       "        vertical-align: top;\n",
       "    }\n",
       "\n",
       "    .dataframe thead th {\n",
       "        text-align: right;\n",
       "    }\n",
       "</style>\n",
       "<table border=\"1\" class=\"dataframe\">\n",
       "  <thead>\n",
       "    <tr style=\"text-align: right;\">\n",
       "      <th></th>\n",
       "      <th>artist</th>\n",
       "      <th>music</th>\n",
       "      <th>position</th>\n",
       "      <th>year</th>\n",
       "    </tr>\n",
       "  </thead>\n",
       "  <tbody>\n",
       "    <tr>\n",
       "      <th>0</th>\n",
       "      <td>METALLICA</td>\n",
       "      <td>FUEL</td>\n",
       "      <td>500</td>\n",
       "      <td>2017</td>\n",
       "    </tr>\n",
       "    <tr>\n",
       "      <th>1</th>\n",
       "      <td>YES</td>\n",
       "      <td>CHANGES</td>\n",
       "      <td>499</td>\n",
       "      <td>2017</td>\n",
       "    </tr>\n",
       "    <tr>\n",
       "      <th>2</th>\n",
       "      <td>LINKIN PARK</td>\n",
       "      <td>IN THE END</td>\n",
       "      <td>498</td>\n",
       "      <td>2017</td>\n",
       "    </tr>\n",
       "    <tr>\n",
       "      <th>3</th>\n",
       "      <td>RUSH</td>\n",
       "      <td>XANADU</td>\n",
       "      <td>497</td>\n",
       "      <td>2017</td>\n",
       "    </tr>\n",
       "    <tr>\n",
       "      <th>4</th>\n",
       "      <td>SYSTEM OF A DOWN</td>\n",
       "      <td>CHOP SUEY!</td>\n",
       "      <td>496</td>\n",
       "      <td>2017</td>\n",
       "    </tr>\n",
       "  </tbody>\n",
       "</table>\n",
       "</div>"
      ],
      "text/plain": [
       "             artist       music  position  year\n",
       "0         METALLICA        FUEL       500  2017\n",
       "1               YES     CHANGES       499  2017\n",
       "2       LINKIN PARK  IN THE END       498  2017\n",
       "3              RUSH      XANADU       497  2017\n",
       "4  SYSTEM OF A DOWN  CHOP SUEY!       496  2017"
      ]
     },
     "execution_count": 5,
     "metadata": {},
     "output_type": "execute_result"
    }
   ],
   "source": [
    "df.head()"
   ]
  },
  {
   "cell_type": "code",
   "execution_count": 7,
   "id": "99c95933-9896-4290-94f2-9d24d698c91e",
   "metadata": {},
   "outputs": [
    {
     "data": {
      "image/png": "[encoded data removed]",
      "text/plain": [
       "<Figure size 2160x720 with 1 Axes>"
      ]
     },
     "metadata": {
      "needs_background": "light"
     },
     "output_type": "display_data"
    }
   ],
   "source": [
    "groups = df.groupby(['year']).size()\n",
    "groups.plot.bar(figsize=(30,10));"
   ]
  },
  {
   "cell_type": "code",
   "execution_count": 8,
   "id": "0f8ca789-6ba5-424c-9d87-0bf39d86724e",
   "metadata": {},
   "outputs": [
    {
     "name": "stdout",
     "output_type": "stream",
     "text": [
      "Hoje temos 22 arquivos para trabalhar\n"
     ]
    }
   ],
   "source": [
    "print(f\"Hoje temos {list_total} arquivos para trabalhar\")"
   ]
  },
  {
   "cell_type": "markdown",
   "id": "950f5372-d8a2-45a1-9788-e3f0861b50de",
   "metadata": {},
   "source": [
    "## Get TOP 10 artistas da lista\n",
    "\n",
    "Somando todas as listas"
   ]
  },
  {
   "cell_type": "code",
   "execution_count": 9,
   "id": "3d9e4a08-7a1c-4079-a0ed-42f94c25cb5b",
   "metadata": {},
   "outputs": [
    {
     "data": {
      "text/plain": [
       "LED ZEPPELIN    283\n",
       "QUEEN           272\n",
       "AEROSMITH       207\n",
       "BEATLES         203\n",
       "PINK FLOYD      200\n",
       "RUSH            193\n",
       "AC/DC           188\n",
       "THE BEATLES     181\n",
       "KISS            176\n",
       "DEEP PURPLE     174\n",
       "Name: artist, dtype: int64"
      ]
     },
     "execution_count": 9,
     "metadata": {},
     "output_type": "execute_result"
    }
   ],
   "source": [
    "df['artist'].value_counts()[:10]"
   ]
  },
  {
   "cell_type": "markdown",
   "id": "cb931b40-8619-468b-b129-df2a23787e9e",
   "metadata": {},
   "source": [
    "## **Get TOP 10 músicas da lista**\n",
    "\n",
    "Não resolve pegar só a música porque tem bandas com músicas com mesmo nome"
   ]
  },
  {
   "cell_type": "code",
   "execution_count": 10,
   "id": "b380f852-360b-4b75-88c6-4122b00a7e89",
   "metadata": {},
   "outputs": [
    {
     "data": {
      "text/plain": [
       "CHANGES                 31\n",
       "ONE                     31\n",
       "REVOLUTION              29\n",
       "SOMEBODY TO LOVE        28\n",
       "LIKE A ROLLING STONE    27\n",
       "TIME                    27\n",
       "DREAMS                  27\n",
       "DREAM ON                26\n",
       "JAILBREAK               25\n",
       "TOM SAWYER              22\n",
       "Name: music, dtype: int64"
      ]
     },
     "execution_count": 10,
     "metadata": {},
     "output_type": "execute_result"
    }
   ],
   "source": [
    "df['music'].value_counts()[:10]"
   ]
  },
  {
   "cell_type": "code",
   "execution_count": 11,
   "id": "1a8c667e-579d-4ff7-9622-ecc8dfca53a4",
   "metadata": {},
   "outputs": [],
   "source": [
    "df_artists_music = df.groupby(['artist', 'music']).size().sort_values(ascending=False).reset_index(name='total')"
   ]
  },
  {
   "cell_type": "markdown",
   "id": "3891c78a-7c87-4520-99cc-9b75cf5b5ecc",
   "metadata": {},
   "source": [
    "## Quais/quantas músicas estão presentes em todas as listas ?"
   ]
  },
  {
   "cell_type": "code",
   "execution_count": 12,
   "id": "689726cb-b26a-46ba-913a-1195583c3c28",
   "metadata": {},
   "outputs": [
    {
     "data": {
      "text/html": [
       "<div>\n",
       "<style scoped>\n",
       "    .dataframe tbody tr th:only-of-type {\n",
       "        vertical-align: middle;\n",
       "    }\n",
       "\n",
       "    .dataframe tbody tr th {\n",
       "        vertical-align: top;\n",
       "    }\n",
       "\n",
       "    .dataframe thead th {\n",
       "        text-align: right;\n",
       "    }\n",
       "</style>\n",
       "<table border=\"1\" class=\"dataframe\">\n",
       "  <thead>\n",
       "    <tr style=\"text-align: right;\">\n",
       "      <th></th>\n",
       "      <th>artist</th>\n",
       "      <th>music</th>\n",
       "      <th>total</th>\n",
       "    </tr>\n",
       "  </thead>\n",
       "  <tbody>\n",
       "    <tr>\n",
       "      <th>0</th>\n",
       "      <td>LED ZEPPELIN</td>\n",
       "      <td>STAIRWAY TO HEAVEN</td>\n",
       "      <td>22</td>\n",
       "    </tr>\n",
       "    <tr>\n",
       "      <th>1</th>\n",
       "      <td>DEEP PURPLE</td>\n",
       "      <td>SMOKE ON THE WATER</td>\n",
       "      <td>22</td>\n",
       "    </tr>\n",
       "    <tr>\n",
       "      <th>2</th>\n",
       "      <td>RUSH</td>\n",
       "      <td>TOM SAWYER</td>\n",
       "      <td>22</td>\n",
       "    </tr>\n",
       "    <tr>\n",
       "      <th>3</th>\n",
       "      <td>DIRE STRAITS</td>\n",
       "      <td>MONEY FOR NOTHING</td>\n",
       "      <td>22</td>\n",
       "    </tr>\n",
       "    <tr>\n",
       "      <th>4</th>\n",
       "      <td>LED ZEPPELIN</td>\n",
       "      <td>BLACK DOG</td>\n",
       "      <td>22</td>\n",
       "    </tr>\n",
       "    <tr>\n",
       "      <th>5</th>\n",
       "      <td>AC/DC</td>\n",
       "      <td>BACK IN BLACK</td>\n",
       "      <td>21</td>\n",
       "    </tr>\n",
       "    <tr>\n",
       "      <th>6</th>\n",
       "      <td>DEEP PURPLE</td>\n",
       "      <td>PERFECT STRANGERS</td>\n",
       "      <td>21</td>\n",
       "    </tr>\n",
       "    <tr>\n",
       "      <th>7</th>\n",
       "      <td>JETHRO TULL</td>\n",
       "      <td>AQUALUNG</td>\n",
       "      <td>21</td>\n",
       "    </tr>\n",
       "    <tr>\n",
       "      <th>8</th>\n",
       "      <td>VAN HALEN</td>\n",
       "      <td>JUMP</td>\n",
       "      <td>21</td>\n",
       "    </tr>\n",
       "    <tr>\n",
       "      <th>9</th>\n",
       "      <td>STEPPENWOLF</td>\n",
       "      <td>BORN TO BE WILD</td>\n",
       "      <td>21</td>\n",
       "    </tr>\n",
       "  </tbody>\n",
       "</table>\n",
       "</div>"
      ],
      "text/plain": [
       "         artist               music  total\n",
       "0  LED ZEPPELIN  STAIRWAY TO HEAVEN     22\n",
       "1   DEEP PURPLE  SMOKE ON THE WATER     22\n",
       "2          RUSH          TOM SAWYER     22\n",
       "3  DIRE STRAITS   MONEY FOR NOTHING     22\n",
       "4  LED ZEPPELIN           BLACK DOG     22\n",
       "5         AC/DC       BACK IN BLACK     21\n",
       "6   DEEP PURPLE   PERFECT STRANGERS     21\n",
       "7   JETHRO TULL            AQUALUNG     21\n",
       "8     VAN HALEN                JUMP     21\n",
       "9   STEPPENWOLF     BORN TO BE WILD     21"
      ]
     },
     "execution_count": 12,
     "metadata": {},
     "output_type": "execute_result"
    }
   ],
   "source": [
    "df_artists_music.head(10)"
   ]
  },
  {
   "cell_type": "markdown",
   "id": "81f42cbb-d5ac-4f4f-927d-0b326e92ecee",
   "metadata": {},
   "source": [
    "## Quais/quantas músicas que estão presentes em somente 1 lista ?"
   ]
  },
  {
   "cell_type": "code",
   "execution_count": 22,
   "id": "6f525941-985f-440d-b1c6-3f9b7dcbb4ba",
   "metadata": {},
   "outputs": [
    {
     "data": {
      "text/html": [
       "<div>\n",
       "<style scoped>\n",
       "    .dataframe tbody tr th:only-of-type {\n",
       "        vertical-align: middle;\n",
       "    }\n",
       "\n",
       "    .dataframe tbody tr th {\n",
       "        vertical-align: top;\n",
       "    }\n",
       "\n",
       "    .dataframe thead th {\n",
       "        text-align: right;\n",
       "    }\n",
       "</style>\n",
       "<table border=\"1\" class=\"dataframe\">\n",
       "  <thead>\n",
       "    <tr style=\"text-align: right;\">\n",
       "      <th></th>\n",
       "      <th>artist</th>\n",
       "      <th>music</th>\n",
       "      <th>total</th>\n",
       "    </tr>\n",
       "  </thead>\n",
       "  <tbody>\n",
       "    <tr>\n",
       "      <th>1684</th>\n",
       "      <td>SCOTT MACKENZIE</td>\n",
       "      <td>SAN FRANCISCO</td>\n",
       "      <td>1</td>\n",
       "    </tr>\n",
       "    <tr>\n",
       "      <th>1685</th>\n",
       "      <td>THE BEACH BOYS</td>\n",
       "      <td>SURFIN'</td>\n",
       "      <td>1</td>\n",
       "    </tr>\n",
       "    <tr>\n",
       "      <th>1686</th>\n",
       "      <td>BILL HALEY AND HIS C</td>\n",
       "      <td>ROCK AROUND THE CLOCK</td>\n",
       "      <td>1</td>\n",
       "    </tr>\n",
       "    <tr>\n",
       "      <th>1687</th>\n",
       "      <td>SCORPIONS</td>\n",
       "      <td>ALWAYS SOMEWHERE</td>\n",
       "      <td>1</td>\n",
       "    </tr>\n",
       "    <tr>\n",
       "      <th>1688</th>\n",
       "      <td>THE BEACH BOYS</td>\n",
       "      <td>SURFIN' U.S.A.</td>\n",
       "      <td>1</td>\n",
       "    </tr>\n",
       "    <tr>\n",
       "      <th>...</th>\n",
       "      <td>...</td>\n",
       "      <td>...</td>\n",
       "      <td>...</td>\n",
       "    </tr>\n",
       "    <tr>\n",
       "      <th>1779</th>\n",
       "      <td>SOFT SELL</td>\n",
       "      <td>TORCH</td>\n",
       "      <td>1</td>\n",
       "    </tr>\n",
       "    <tr>\n",
       "      <th>1780</th>\n",
       "      <td>SLY AND THE FAMILY STONE</td>\n",
       "      <td>DANCE TO THE MUSIC</td>\n",
       "      <td>1</td>\n",
       "    </tr>\n",
       "    <tr>\n",
       "      <th>1781</th>\n",
       "      <td>BLACK SABBATH</td>\n",
       "      <td>SUPERNAUT</td>\n",
       "      <td>1</td>\n",
       "    </tr>\n",
       "    <tr>\n",
       "      <th>1782</th>\n",
       "      <td>BLACKFOOT</td>\n",
       "      <td>FLY AWAY</td>\n",
       "      <td>1</td>\n",
       "    </tr>\n",
       "    <tr>\n",
       "      <th>1783</th>\n",
       "      <td>SLADE</td>\n",
       "      <td>CUM ON FEEL THE NOISE</td>\n",
       "      <td>1</td>\n",
       "    </tr>\n",
       "  </tbody>\n",
       "</table>\n",
       "<p>100 rows × 3 columns</p>\n",
       "</div>"
      ],
      "text/plain": [
       "                        artist                  music  total\n",
       "1684           SCOTT MACKENZIE          SAN FRANCISCO      1\n",
       "1685            THE BEACH BOYS                SURFIN'      1\n",
       "1686      BILL HALEY AND HIS C  ROCK AROUND THE CLOCK      1\n",
       "1687                 SCORPIONS       ALWAYS SOMEWHERE      1\n",
       "1688            THE BEACH BOYS         SURFIN' U.S.A.      1\n",
       "...                        ...                    ...    ...\n",
       "1779                 SOFT SELL                  TORCH      1\n",
       "1780  SLY AND THE FAMILY STONE     DANCE TO THE MUSIC      1\n",
       "1781             BLACK SABBATH              SUPERNAUT      1\n",
       "1782                 BLACKFOOT               FLY AWAY      1\n",
       "1783                     SLADE  CUM ON FEEL THE NOISE      1\n",
       "\n",
       "[100 rows x 3 columns]"
      ]
     },
     "execution_count": 22,
     "metadata": {},
     "output_type": "execute_result"
    }
   ],
   "source": [
    "df_artists_music[df_artists_music[\"total\"]==1].head(10)"
   ]
  },
  {
   "cell_type": "code",
   "execution_count": null,
   "id": "85047a3d-25ab-4714-a815-17dec419dee3",
   "metadata": {},
   "outputs": [],
   "source": [
    "df_artists_music.groupby('total').size().sort_values(ascending=False).reset_index(name='sum')"
   ]
  },
  {
   "cell_type": "markdown",
   "id": "495a1e9d-7c4e-417d-86e5-60bdfd848ced",
   "metadata": {},
   "source": [
    "## Checar músicas com nomes iguais na base"
   ]
  },
  {
   "cell_type": "code",
   "execution_count": 29,
   "id": "0376b49a-d376-4eb3-9d6d-576cd504f43c",
   "metadata": {},
   "outputs": [
    {
     "data": {
      "text/html": [
       "<div>\n",
       "<style scoped>\n",
       "    .dataframe tbody tr th:only-of-type {\n",
       "        vertical-align: middle;\n",
       "    }\n",
       "\n",
       "    .dataframe tbody tr th {\n",
       "        vertical-align: top;\n",
       "    }\n",
       "\n",
       "    .dataframe thead th {\n",
       "        text-align: right;\n",
       "    }\n",
       "</style>\n",
       "<table border=\"1\" class=\"dataframe\">\n",
       "  <thead>\n",
       "    <tr style=\"text-align: right;\">\n",
       "      <th></th>\n",
       "      <th>artist</th>\n",
       "      <th>music</th>\n",
       "      <th>total</th>\n",
       "    </tr>\n",
       "  </thead>\n",
       "  <tbody>\n",
       "    <tr>\n",
       "      <th>152</th>\n",
       "      <td>U2</td>\n",
       "      <td>ONE</td>\n",
       "      <td>12</td>\n",
       "    </tr>\n",
       "    <tr>\n",
       "      <th>321</th>\n",
       "      <td>BAUHAUS</td>\n",
       "      <td>ZIGGY STARDUST</td>\n",
       "      <td>8</td>\n",
       "    </tr>\n",
       "    <tr>\n",
       "      <th>328</th>\n",
       "      <td>FLEETWOOD MAC</td>\n",
       "      <td>DREAMS</td>\n",
       "      <td>7</td>\n",
       "    </tr>\n",
       "    <tr>\n",
       "      <th>333</th>\n",
       "      <td>THE ROLLING STONES</td>\n",
       "      <td>LIKE A ROLLING STONE</td>\n",
       "      <td>7</td>\n",
       "    </tr>\n",
       "    <tr>\n",
       "      <th>363</th>\n",
       "      <td>JEFFERSON AIRPLANE</td>\n",
       "      <td>SOMEBODY TO LOVE</td>\n",
       "      <td>7</td>\n",
       "    </tr>\n",
       "    <tr>\n",
       "      <th>...</th>\n",
       "      <td>...</td>\n",
       "      <td>...</td>\n",
       "      <td>...</td>\n",
       "    </tr>\n",
       "    <tr>\n",
       "      <th>2823</th>\n",
       "      <td>LYNYRD SKYNRYRD</td>\n",
       "      <td>SATURDAY NIGHT SPECIAL</td>\n",
       "      <td>1</td>\n",
       "    </tr>\n",
       "    <tr>\n",
       "      <th>2825</th>\n",
       "      <td>LOVIN’ SPOONFUL</td>\n",
       "      <td>DO YOU BELIEVE IN MAGIC</td>\n",
       "      <td>1</td>\n",
       "    </tr>\n",
       "    <tr>\n",
       "      <th>2828</th>\n",
       "      <td>LOS LOBOS</td>\n",
       "      <td>LA BAMBA</td>\n",
       "      <td>1</td>\n",
       "    </tr>\n",
       "    <tr>\n",
       "      <th>2833</th>\n",
       "      <td>LIVING COLOR</td>\n",
       "      <td>CULT OF PERSONALITY</td>\n",
       "      <td>1</td>\n",
       "    </tr>\n",
       "    <tr>\n",
       "      <th>2839</th>\n",
       "      <td>LITTLE RICHARD</td>\n",
       "      <td>GOOD GOLLY MISS MOLLY</td>\n",
       "      <td>1</td>\n",
       "    </tr>\n",
       "  </tbody>\n",
       "</table>\n",
       "<p>526 rows × 3 columns</p>\n",
       "</div>"
      ],
      "text/plain": [
       "                  artist                    music  total\n",
       "152                   U2                      ONE     12\n",
       "321              BAUHAUS           ZIGGY STARDUST      8\n",
       "328        FLEETWOOD MAC                   DREAMS      7\n",
       "333   THE ROLLING STONES     LIKE A ROLLING STONE      7\n",
       "363   JEFFERSON AIRPLANE         SOMEBODY TO LOVE      7\n",
       "...                  ...                      ...    ...\n",
       "2823     LYNYRD SKYNRYRD   SATURDAY NIGHT SPECIAL      1\n",
       "2825     LOVIN’ SPOONFUL  DO YOU BELIEVE IN MAGIC      1\n",
       "2828           LOS LOBOS                 LA BAMBA      1\n",
       "2833        LIVING COLOR      CULT OF PERSONALITY      1\n",
       "2839      LITTLE RICHARD    GOOD GOLLY MISS MOLLY      1\n",
       "\n",
       "[526 rows x 3 columns]"
      ]
     },
     "execution_count": 29,
     "metadata": {},
     "output_type": "execute_result"
    }
   ],
   "source": [
    "df_artists_music[df_artists_music.duplicated(['music'])==True]"
   ]
  },
  {
   "cell_type": "code",
   "execution_count": 30,
   "id": "78b8f94f-5a24-4487-90a6-61ddf9d514d6",
   "metadata": {},
   "outputs": [
    {
     "data": {
      "text/html": [
       "<div>\n",
       "<style scoped>\n",
       "    .dataframe tbody tr th:only-of-type {\n",
       "        vertical-align: middle;\n",
       "    }\n",
       "\n",
       "    .dataframe tbody tr th {\n",
       "        vertical-align: top;\n",
       "    }\n",
       "\n",
       "    .dataframe thead th {\n",
       "        text-align: right;\n",
       "    }\n",
       "</style>\n",
       "<table border=\"1\" class=\"dataframe\">\n",
       "  <thead>\n",
       "    <tr style=\"text-align: right;\">\n",
       "      <th></th>\n",
       "      <th>artist</th>\n",
       "      <th>music</th>\n",
       "      <th>total</th>\n",
       "    </tr>\n",
       "  </thead>\n",
       "  <tbody>\n",
       "    <tr>\n",
       "      <th>446</th>\n",
       "      <td>RITCHIE VALENS</td>\n",
       "      <td>LA BAMBA</td>\n",
       "      <td>6</td>\n",
       "    </tr>\n",
       "    <tr>\n",
       "      <th>2828</th>\n",
       "      <td>LOS LOBOS</td>\n",
       "      <td>LA BAMBA</td>\n",
       "      <td>1</td>\n",
       "    </tr>\n",
       "  </tbody>\n",
       "</table>\n",
       "</div>"
      ],
      "text/plain": [
       "              artist     music  total\n",
       "446   RITCHIE VALENS  LA BAMBA      6\n",
       "2828       LOS LOBOS  LA BAMBA      1"
      ]
     },
     "execution_count": 30,
     "metadata": {},
     "output_type": "execute_result"
    }
   ],
   "source": [
    "df_artists_music[df_artists_music['music']=='LA BAMBA']"
   ]
  },
  {
   "cell_type": "markdown",
   "id": "52a374eb-d4a3-41e8-bffc-10816a2cee9e",
   "metadata": {},
   "source": [
    "## **Rankear as TOP das Tops**\n",
    "\n",
    "Encontrar as músicas que melhores rankearam nas listas\n",
    "\n",
    "Critério:\n",
    "- score = 500 - posição. \n",
    "\n",
    "    Exemplo: \n",
    "        posição 1 será score = 500 - 1 = 499\n",
    "        posição 500 será score = 500 - 500 = 0\n",
    "        \n",
    "O rank da música será a soma dos scores de cada lista.\n"
   ]
  },
  {
   "cell_type": "code",
   "execution_count": 14,
   "id": "38960b9f-2bc1-4490-b11f-1b31f19e519c",
   "metadata": {},
   "outputs": [],
   "source": [
    "df_rank = df\n",
    "df_rank['score'] = 500 - df['position']"
   ]
  },
  {
   "cell_type": "code",
   "execution_count": 15,
   "id": "d9f61933-1fd2-40d9-92d1-5e75a28e1c52",
   "metadata": {},
   "outputs": [
    {
     "data": {
      "text/html": [
       "<div>\n",
       "<style scoped>\n",
       "    .dataframe tbody tr th:only-of-type {\n",
       "        vertical-align: middle;\n",
       "    }\n",
       "\n",
       "    .dataframe tbody tr th {\n",
       "        vertical-align: top;\n",
       "    }\n",
       "\n",
       "    .dataframe thead th {\n",
       "        text-align: right;\n",
       "    }\n",
       "</style>\n",
       "<table border=\"1\" class=\"dataframe\">\n",
       "  <thead>\n",
       "    <tr style=\"text-align: right;\">\n",
       "      <th></th>\n",
       "      <th>artist</th>\n",
       "      <th>music</th>\n",
       "      <th>position</th>\n",
       "      <th>year</th>\n",
       "      <th>score</th>\n",
       "    </tr>\n",
       "  </thead>\n",
       "  <tbody>\n",
       "    <tr>\n",
       "      <th>0</th>\n",
       "      <td>METALLICA</td>\n",
       "      <td>FUEL</td>\n",
       "      <td>500</td>\n",
       "      <td>2017</td>\n",
       "      <td>0</td>\n",
       "    </tr>\n",
       "    <tr>\n",
       "      <th>1</th>\n",
       "      <td>YES</td>\n",
       "      <td>CHANGES</td>\n",
       "      <td>499</td>\n",
       "      <td>2017</td>\n",
       "      <td>1</td>\n",
       "    </tr>\n",
       "    <tr>\n",
       "      <th>2</th>\n",
       "      <td>LINKIN PARK</td>\n",
       "      <td>IN THE END</td>\n",
       "      <td>498</td>\n",
       "      <td>2017</td>\n",
       "      <td>2</td>\n",
       "    </tr>\n",
       "    <tr>\n",
       "      <th>3</th>\n",
       "      <td>RUSH</td>\n",
       "      <td>XANADU</td>\n",
       "      <td>497</td>\n",
       "      <td>2017</td>\n",
       "      <td>3</td>\n",
       "    </tr>\n",
       "    <tr>\n",
       "      <th>4</th>\n",
       "      <td>SYSTEM OF A DOWN</td>\n",
       "      <td>CHOP SUEY!</td>\n",
       "      <td>496</td>\n",
       "      <td>2017</td>\n",
       "      <td>4</td>\n",
       "    </tr>\n",
       "  </tbody>\n",
       "</table>\n",
       "</div>"
      ],
      "text/plain": [
       "             artist       music  position  year  score\n",
       "0         METALLICA        FUEL       500  2017      0\n",
       "1               YES     CHANGES       499  2017      1\n",
       "2       LINKIN PARK  IN THE END       498  2017      2\n",
       "3              RUSH      XANADU       497  2017      3\n",
       "4  SYSTEM OF A DOWN  CHOP SUEY!       496  2017      4"
      ]
     },
     "execution_count": 15,
     "metadata": {},
     "output_type": "execute_result"
    }
   ],
   "source": [
    "df_rank.head()"
   ]
  },
  {
   "cell_type": "code",
   "execution_count": 16,
   "id": "a5e26c8e-f402-4c86-9f57-906666609773",
   "metadata": {},
   "outputs": [
    {
     "data": {
      "text/html": [
       "<div>\n",
       "<style scoped>\n",
       "    .dataframe tbody tr th:only-of-type {\n",
       "        vertical-align: middle;\n",
       "    }\n",
       "\n",
       "    .dataframe tbody tr th {\n",
       "        vertical-align: top;\n",
       "    }\n",
       "\n",
       "    .dataframe thead th {\n",
       "        text-align: right;\n",
       "    }\n",
       "</style>\n",
       "<table border=\"1\" class=\"dataframe\">\n",
       "  <thead>\n",
       "    <tr style=\"text-align: right;\">\n",
       "      <th></th>\n",
       "      <th>artist</th>\n",
       "      <th>music</th>\n",
       "      <th>position</th>\n",
       "      <th>year</th>\n",
       "      <th>score</th>\n",
       "    </tr>\n",
       "  </thead>\n",
       "  <tbody>\n",
       "    <tr>\n",
       "      <th>7999</th>\n",
       "      <td>BEATLES</td>\n",
       "      <td>HELP</td>\n",
       "      <td>1</td>\n",
       "      <td>2011</td>\n",
       "      <td>499</td>\n",
       "    </tr>\n",
       "    <tr>\n",
       "      <th>8502</th>\n",
       "      <td>BEATLES</td>\n",
       "      <td>HELP</td>\n",
       "      <td>3</td>\n",
       "      <td>2005</td>\n",
       "      <td>497</td>\n",
       "    </tr>\n",
       "    <tr>\n",
       "      <th>4003</th>\n",
       "      <td>BEATLES</td>\n",
       "      <td>HELP</td>\n",
       "      <td>4</td>\n",
       "      <td>2006</td>\n",
       "      <td>496</td>\n",
       "    </tr>\n",
       "    <tr>\n",
       "      <th>5003</th>\n",
       "      <td>BEATLES</td>\n",
       "      <td>HEY JUDE</td>\n",
       "      <td>4</td>\n",
       "      <td>2002</td>\n",
       "      <td>496</td>\n",
       "    </tr>\n",
       "    <tr>\n",
       "      <th>3503</th>\n",
       "      <td>BEATLES</td>\n",
       "      <td>HELP</td>\n",
       "      <td>4</td>\n",
       "      <td>2004</td>\n",
       "      <td>496</td>\n",
       "    </tr>\n",
       "    <tr>\n",
       "      <th>...</th>\n",
       "      <td>...</td>\n",
       "      <td>...</td>\n",
       "      <td>...</td>\n",
       "      <td>...</td>\n",
       "      <td>...</td>\n",
       "    </tr>\n",
       "    <tr>\n",
       "      <th>3986</th>\n",
       "      <td>BEATLES</td>\n",
       "      <td>PENNY LANE</td>\n",
       "      <td>487</td>\n",
       "      <td>2004</td>\n",
       "      <td>13</td>\n",
       "    </tr>\n",
       "    <tr>\n",
       "      <th>7491</th>\n",
       "      <td>BEATLES</td>\n",
       "      <td>I SHOULD HAVE KNOW BETTER</td>\n",
       "      <td>492</td>\n",
       "      <td>2003</td>\n",
       "      <td>8</td>\n",
       "    </tr>\n",
       "    <tr>\n",
       "      <th>3493</th>\n",
       "      <td>BEATLES</td>\n",
       "      <td>I SHOULD HAVE KNOW BETTER</td>\n",
       "      <td>494</td>\n",
       "      <td>2007</td>\n",
       "      <td>6</td>\n",
       "    </tr>\n",
       "    <tr>\n",
       "      <th>3997</th>\n",
       "      <td>BEATLES</td>\n",
       "      <td>ELEANOR RIGBY</td>\n",
       "      <td>498</td>\n",
       "      <td>2004</td>\n",
       "      <td>2</td>\n",
       "    </tr>\n",
       "    <tr>\n",
       "      <th>7499</th>\n",
       "      <td>BEATLES</td>\n",
       "      <td>LADY MADONNA</td>\n",
       "      <td>500</td>\n",
       "      <td>2003</td>\n",
       "      <td>0</td>\n",
       "    </tr>\n",
       "  </tbody>\n",
       "</table>\n",
       "<p>203 rows × 5 columns</p>\n",
       "</div>"
      ],
      "text/plain": [
       "       artist                      music  position  year  score\n",
       "7999  BEATLES                       HELP         1  2011    499\n",
       "8502  BEATLES                       HELP         3  2005    497\n",
       "4003  BEATLES                       HELP         4  2006    496\n",
       "5003  BEATLES                   HEY JUDE         4  2002    496\n",
       "3503  BEATLES                       HELP         4  2004    496\n",
       "...       ...                        ...       ...   ...    ...\n",
       "3986  BEATLES                 PENNY LANE       487  2004     13\n",
       "7491  BEATLES  I SHOULD HAVE KNOW BETTER       492  2003      8\n",
       "3493  BEATLES  I SHOULD HAVE KNOW BETTER       494  2007      6\n",
       "3997  BEATLES              ELEANOR RIGBY       498  2004      2\n",
       "7499  BEATLES               LADY MADONNA       500  2003      0\n",
       "\n",
       "[203 rows x 5 columns]"
      ]
     },
     "execution_count": 16,
     "metadata": {},
     "output_type": "execute_result"
    }
   ],
   "source": [
    "df_rank[(df_rank['artist']=='BEATLES')].sort_values('position')"
   ]
  },
  {
   "cell_type": "code",
   "execution_count": null,
   "id": "ee492e7a-c08b-46ce-b664-9f7c50142c93",
   "metadata": {},
   "outputs": [],
   "source": [
    "df_rank[(df_rank['artist']=='PEARL JAM') & (df_rank['music']=='BLACK')].sort_values('year')"
   ]
  },
  {
   "cell_type": "code",
   "execution_count": null,
   "id": "f47617b0-c514-4c6f-b7d8-4a20191aabad",
   "metadata": {},
   "outputs": [],
   "source": [
    "df_rank.groupby(['artist', 'music'])['score'].agg('sum').sort_values(ascending=False)[:25]"
   ]
  },
  {
   "cell_type": "code",
   "execution_count": 19,
   "id": "cf86b00b-24ff-47a0-86d5-34c36f1c81df",
   "metadata": {},
   "outputs": [
    {
     "data": {
      "image/png": "[encoded data removed]",
      "text/plain": [
       "<Figure size 432x288 with 1 Axes>"
      ]
     },
     "metadata": {},
     "output_type": "display_data"
    }
   ],
   "source": [
    "df_rank.groupby(['artist', 'music'])['score'].agg('sum').sort_values(ascending=False)[:10].plot(kind='pie');"
   ]
  },
  {
   "cell_type": "code",
   "execution_count": 20,
   "id": "490369f3-39b5-4b0d-b088-4ab24f5a163f",
   "metadata": {},
   "outputs": [
    {
     "data": {
      "text/plain": [
       "artist\n",
       "LED ZEPPELIN     96466\n",
       "QUEEN            84970\n",
       "PINK FLOYD       70695\n",
       "AC/DC            67439\n",
       "BEATLES          59727\n",
       "DEEP PURPLE      59187\n",
       "BLACK SABBATH    56505\n",
       "RUSH             55897\n",
       "THE BEATLES      52639\n",
       "AEROSMITH        50732\n",
       "Name: score, dtype: int64"
      ]
     },
     "execution_count": 20,
     "metadata": {},
     "output_type": "execute_result"
    }
   ],
   "source": [
    "df_rank.groupby(['artist'])['score'].agg('sum').sort_values(ascending=False)[:10]"
   ]
  },
  {
   "cell_type": "code",
   "execution_count": null,
   "id": "a318e7cc-1401-46a9-8bd2-135b0c7c6f3b",
   "metadata": {},
   "outputs": [],
   "source": []
  }
 ],
 "metadata": {
  "kernelspec": {
   "display_name": "Python 3 (ipykernel)",
   "language": "python",
   "name": "python3"
  },
  "language_info": {
   "codemirror_mode": {
    "name": "ipython",
    "version": 3
   },
   "file_extension": ".py",
   "mimetype": "text/x-python",
   "name": "python",
   "nbconvert_exporter": "python",
   "pygments_lexer": "ipython3",
   "version": "3.8.12"
  }
 },
 "nbformat": 4,
 "nbformat_minor": 5
}
