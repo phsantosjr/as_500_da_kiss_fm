{
 "cells": [
  {
   "cell_type": "markdown",
   "id": "4854dd5c-c058-4d4f-b936-f38b9664cd29",
   "metadata": {},
   "source": [
    "## Script para tratar os arquivos originais da base"
   ]
  },
  {
   "cell_type": "markdown",
   "id": "a48cc36f-f5a4-4784-aebf-9db07839b804",
   "metadata": {},
   "source": [
    "O arquivo 2000_orig.txt o valor da ordem da música está depois do nome da banda/música\n",
    "\n",
    "Os arquivos de 2001 a 2005 o valor da ordem da música está antes do nome da banda/música, e tem um \".\" (ponto) depois do valor\n",
    "\n",
    "O arquivo de 2006 o valor da ordem da música está antes do nome da banda/música, e não tem um \".\" (ponto) depois do valor"
   ]
  },
  {
   "cell_type": "code",
   "execution_count": 76,
   "id": "10a88086-0716-4756-af5e-c5ac6ccd47f4",
   "metadata": {},
   "outputs": [],
   "source": [
    "import json\n",
    "from collections import Counter\n",
    "import re"
   ]
  },
  {
   "cell_type": "code",
   "execution_count": 5,
   "id": "30910af9-57be-456d-9990-28e7a990a9b3",
   "metadata": {},
   "outputs": [],
   "source": [
    "directory = \"resources/bases/\""
   ]
  },
  {
   "cell_type": "code",
   "execution_count": 70,
   "id": "e5df7ac9-6afd-421b-9fe8-8048c4e3b03d",
   "metadata": {},
   "outputs": [],
   "source": [
    "def int_try_parse(value):\n",
    "    try:\n",
    "        return int(value), True\n",
    "    except ValueError:\n",
    "        return value, False\n",
    "    except Exception:\n",
    "        return value, False"
   ]
  },
  {
   "cell_type": "code",
   "execution_count": 6,
   "id": "b8f6971e-fb53-4417-b136-cb8bfb4f046a",
   "metadata": {},
   "outputs": [],
   "source": [
    "file = \"2000_orig.txt\""
   ]
  },
  {
   "cell_type": "code",
   "execution_count": 41,
   "id": "3acb1299-0894-46b2-9391-01b4e51cc423",
   "metadata": {},
   "outputs": [],
   "source": [
    "path_to_file = f\"{directory}{file}\"\n",
    "\n",
    "\n",
    "with open(path_to_file) as f:\n",
    "    contents = f.read()"
   ]
  },
  {
   "cell_type": "code",
   "execution_count": null,
   "id": "53b2201a-308f-49d5-9e98-bd240675d665",
   "metadata": {},
   "outputs": [],
   "source": [
    "print(contents)"
   ]
  },
  {
   "cell_type": "code",
   "execution_count": 43,
   "id": "70b4ccdb-db61-4b9b-8a95-a7b4f806b2d6",
   "metadata": {},
   "outputs": [],
   "source": [
    "stop_words = [\n",
    "    \"Repetiu\",\n",
    "    \"Repetiu 457 e 319\",\n",
    "    \"Problemas\",\n",
    "    \"2.\"\n",
    "]"
   ]
  },
  {
   "cell_type": "code",
   "execution_count": 44,
   "id": "d214c7bf-50fc-474b-951e-a0ab91d6d1a7",
   "metadata": {
    "tags": []
   },
   "outputs": [],
   "source": [
    "words_list = contents.split() "
   ]
  },
  {
   "cell_type": "code",
   "execution_count": 45,
   "id": "4156bbfc-c851-4e1d-bc52-3fcf9453f98a",
   "metadata": {},
   "outputs": [],
   "source": [
    "words_list = [word for word in words_list if word not in stop_words]"
   ]
  },
  {
   "cell_type": "markdown",
   "id": "f94116b5-f4d7-4106-af79-5e5cad652477",
   "metadata": {},
   "source": [
    "### Checar se tem número de ordem repetido\n",
    "\n",
    "se tiver valor repetido, tem que procurar qual é a repetição e tratar como remover"
   ]
  },
  {
   "cell_type": "code",
   "execution_count": 59,
   "id": "60d86d17-f109-4522-9571-80cfab432529",
   "metadata": {},
   "outputs": [
    {
     "name": "stdout",
     "output_type": "stream",
     "text": [
      "False\n"
     ]
    }
   ],
   "source": [
    "list_order = [word for word in words_list if word.isnumeric()]\n",
    "group_by_order = Counter(list_order)\n",
    "\n",
    "print(all(c > 1 for c in group_by_order.values()))\n"
   ]
  },
  {
   "cell_type": "code",
   "execution_count": null,
   "id": "f5295386-b372-4bba-a9cf-25ee81067209",
   "metadata": {},
   "outputs": [],
   "source": [
    "index_previous = 0\n",
    "\n",
    "song_list = []\n",
    "\n",
    "for index, word in enumerate(words_list[:100]):\n",
    "    if word.isnumeric():             \n",
    "        song_list.append(\n",
    "            {\n",
    "                \"position\": word,\n",
    "                \"artist\": \" \".join(words_list[index_previous:index]),\n",
    "                \"music\": \"\"\n",
    "            }\n",
    "        )\n",
    "        index_previous = index + 1\n",
    "\n",
    "print(json.dumps(song_list, indent=4, sort_keys=True))"
   ]
  },
  {
   "cell_type": "markdown",
   "id": "d7836f6c-5d50-47cb-afe1-e60ccffda7ed",
   "metadata": {},
   "source": [
    "## Arquivos de 2001 a 2005"
   ]
  },
  {
   "cell_type": "code",
   "execution_count": 62,
   "id": "1f2c6753-1ca6-4899-ba37-2f7ca42165de",
   "metadata": {},
   "outputs": [],
   "source": [
    "file = \"2001_orig.txt\"\n",
    "path_to_file = f\"{directory}{file}\"\n",
    "\n",
    "\n",
    "with open(path_to_file) as f:\n",
    "    contents = f.read()"
   ]
  },
  {
   "cell_type": "code",
   "execution_count": 66,
   "id": "d2f03c46-c3ee-4f4f-bcc5-6d5fade6c9f7",
   "metadata": {},
   "outputs": [],
   "source": [
    "words_list = contents.split() \n",
    "words_list = [word for word in words_list]"
   ]
  },
  {
   "cell_type": "code",
   "execution_count": null,
   "id": "1782544f-c77f-4c8c-83b3-7df7f3c5d82f",
   "metadata": {},
   "outputs": [],
   "source": [
    "pattern = \"[\\d]{1,3}[\\.][\\s][\\D]{1,}[-][\\D]{1,}\"\n",
    "song_list = []\n",
    "\n",
    "itens_in_list = re.findall(pattern, contents)\n",
    "for item in itens_in_list:\n",
    "    order, _ = int_try_parse(item[:3].replace(\".\", \"\"))\n",
    "    \n",
    "    song_list.append(\n",
    "            {\n",
    "                \"position\": order,\n",
    "                \"artist\": item[3:].split(\"-\")[0].strip(),\n",
    "                \"music\": item[3:].split(\"-\")[1].strip()\n",
    "            }\n",
    "        )\n",
    "    "
   ]
  },
  {
   "cell_type": "markdown",
   "id": "d4cffdf1-d9a9-4b5c-90c4-a5cabfd1928f",
   "metadata": {},
   "source": []
  },
  {
   "cell_type": "code",
   "execution_count": null,
   "id": "863d81c4-c669-48a0-bef4-06cb049dbdba",
   "metadata": {},
   "outputs": [],
   "source": []
  }
 ],
 "metadata": {
  "kernelspec": {
   "display_name": "Python 3 (ipykernel)",
   "language": "python",
   "name": "python3"
  },
  "language_info": {
   "codemirror_mode": {
    "name": "ipython",
    "version": 3
   },
   "file_extension": ".py",
   "mimetype": "text/x-python",
   "name": "python",
   "nbconvert_exporter": "python",
   "pygments_lexer": "ipython3",
   "version": "3.8.12"
  }
 },
 "nbformat": 4,
 "nbformat_minor": 5
}
