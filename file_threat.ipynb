{
 "cells": [
  {
   "cell_type": "markdown",
   "id": "4854dd5c-c058-4d4f-b936-f38b9664cd29",
   "metadata": {},
   "source": [
    "## **Script para tratar os arquivos originais da base**"
   ]
  },
  {
   "cell_type": "markdown",
   "id": "a48cc36f-f5a4-4784-aebf-9db07839b804",
   "metadata": {},
   "source": [
    "Esse processo não analisará o conteúdo dos dados, apenas nas raras excecões.\n",
    "\n",
    "A finalidade aqui é preparar as informações para serem carregadas no outro Jupyter onde serão feitas as análises\n",
    "\n",
    "O arquivo 2000_orig.txt o valor da ordem da música está depois do nome da banda/música\n",
    "\n",
    "Os arquivos de 2001 a 2005 o valor da ordem da música está antes do nome da banda/música, e tem um \".\" (ponto) depois do valor\n",
    "\n",
    "O arquivo de 2006 o valor da ordem da música está antes do nome da banda/música, e não tem um \".\" (ponto) depois do valor"
   ]
  },
  {
   "cell_type": "code",
   "execution_count": 1,
   "id": "10a88086-0716-4756-af5e-c5ac6ccd47f4",
   "metadata": {},
   "outputs": [],
   "source": [
    "import json\n",
    "import os\n",
    "import re\n",
    "from collections import Counter"
   ]
  },
  {
   "cell_type": "code",
   "execution_count": 2,
   "id": "30910af9-57be-456d-9990-28e7a990a9b3",
   "metadata": {},
   "outputs": [],
   "source": [
    "folder_original = \"resources/bases/original/\"\n",
    "folder_threated = \"resources/bases/tratada/\""
   ]
  },
  {
   "cell_type": "code",
   "execution_count": 3,
   "id": "e5df7ac9-6afd-421b-9fe8-8048c4e3b03d",
   "metadata": {},
   "outputs": [],
   "source": [
    "def int_try_parse(value):\n",
    "    try:\n",
    "        return int(value), True\n",
    "    except ValueError:\n",
    "        return value, False\n",
    "    except Exception:\n",
    "        return value, False"
   ]
  },
  {
   "cell_type": "code",
   "execution_count": 104,
   "id": "4fa4dea2-1b52-4986-bec3-ad97e8624bb6",
   "metadata": {},
   "outputs": [],
   "source": [
    "def read_file_on_line(path_to_file: str):\n",
    "    \"\"\"\n",
    "    Read a file and return one single line\n",
    "    \"\"\"\n",
    "    with open(path_to_file) as f:\n",
    "        return f.read()"
   ]
  },
  {
   "cell_type": "code",
   "execution_count": 105,
   "id": "5f1ba8d9-3acc-47e1-8114-399465a015e1",
   "metadata": {},
   "outputs": [],
   "source": [
    "def read_file_lines(path_to_file: str):\n",
    "    \"\"\"\n",
    "    Read a file and return one single line\n",
    "    \"\"\"\n",
    "    with open(path_to_file) as f:\n",
    "        return [stripped for line in f if (stripped := line.strip())]"
   ]
  },
  {
   "cell_type": "code",
   "execution_count": 98,
   "id": "ed022661-1fe9-431f-9340-55aa32a55b71",
   "metadata": {},
   "outputs": [],
   "source": [
    "def threat_artist_with_hyphen_in_name(text):\n",
    "    text = text.upper()\n",
    "    text = text.replace(\"A-HA\", \"A HA\")\n",
    "    text = text.replace(\"B-52\", \"B 52\")\n",
    "    return text\n",
    "    "
   ]
  },
  {
   "cell_type": "markdown",
   "id": "e4b870c6-d3d4-4d31-baea-3bc7dfe77a8b",
   "metadata": {},
   "source": [
    "## Tratando base **2000**"
   ]
  },
  {
   "cell_type": "code",
   "execution_count": 9,
   "id": "b8f6971e-fb53-4417-b136-cb8bfb4f046a",
   "metadata": {},
   "outputs": [],
   "source": [
    "file = \"2000_orig.txt\""
   ]
  },
  {
   "cell_type": "code",
   "execution_count": 10,
   "id": "3acb1299-0894-46b2-9391-01b4e51cc423",
   "metadata": {},
   "outputs": [],
   "source": [
    "path_to_file = f\"{folder_original}{file}\"\n",
    "contents = read_file_on_line(path_to_file)"
   ]
  },
  {
   "cell_type": "code",
   "execution_count": null,
   "id": "53b2201a-308f-49d5-9e98-bd240675d665",
   "metadata": {},
   "outputs": [],
   "source": [
    "print(contents)"
   ]
  },
  {
   "cell_type": "code",
   "execution_count": 43,
   "id": "70b4ccdb-db61-4b9b-8a95-a7b4f806b2d6",
   "metadata": {},
   "outputs": [],
   "source": [
    "stop_words = [\n",
    "    \"Repetiu\",\n",
    "    \"Repetiu 457 e 319\",\n",
    "    \"Problemas\",\n",
    "    \"2.\"\n",
    "]"
   ]
  },
  {
   "cell_type": "code",
   "execution_count": 44,
   "id": "d214c7bf-50fc-474b-951e-a0ab91d6d1a7",
   "metadata": {
    "tags": []
   },
   "outputs": [],
   "source": [
    "words_list = contents.split() "
   ]
  },
  {
   "cell_type": "code",
   "execution_count": 45,
   "id": "4156bbfc-c851-4e1d-bc52-3fcf9453f98a",
   "metadata": {},
   "outputs": [],
   "source": [
    "words_list = [word for word in words_list if word not in stop_words]"
   ]
  },
  {
   "cell_type": "markdown",
   "id": "f94116b5-f4d7-4106-af79-5e5cad652477",
   "metadata": {},
   "source": [
    "### Checar se tem número de ordem repetido\n",
    "\n",
    "se tiver valor repetido, tem que procurar qual é a repetição e tratar como remover"
   ]
  },
  {
   "cell_type": "code",
   "execution_count": 59,
   "id": "60d86d17-f109-4522-9571-80cfab432529",
   "metadata": {},
   "outputs": [
    {
     "name": "stdout",
     "output_type": "stream",
     "text": [
      "False\n"
     ]
    }
   ],
   "source": [
    "list_order = [word for word in words_list if word.isnumeric()]\n",
    "group_by_order = Counter(list_order)\n",
    "\n",
    "print(all(c > 1 for c in group_by_order.values()))"
   ]
  },
  {
   "cell_type": "code",
   "execution_count": null,
   "id": "f5295386-b372-4bba-a9cf-25ee81067209",
   "metadata": {},
   "outputs": [],
   "source": [
    "index_previous = 0\n",
    "\n",
    "song_list = []\n",
    "\n",
    "for index, word in enumerate(words_list[:100]):\n",
    "    if word.isnumeric():             \n",
    "        song_list.append(\n",
    "            {\n",
    "                \"position\": word,\n",
    "                \"artist\": \" \".join(words_list[index_previous:index]),\n",
    "                \"music\": \"\"\n",
    "            }\n",
    "        )\n",
    "        index_previous = index + 1\n",
    "\n",
    "print(json.dumps(song_list, indent=4, sort_keys=True))"
   ]
  },
  {
   "cell_type": "code",
   "execution_count": 37,
   "id": "8cbffb53-8534-4dd5-a7b9-8ee12307196b",
   "metadata": {},
   "outputs": [],
   "source": [
    "def save_new_file(items: list, year: int):\n",
    "    path = f\"{folder_threated}{year}_ok.txt\"\n",
    "    \n",
    "    if os.path.exists(path):\n",
    "        os.remove(path)\n",
    "   \n",
    "    with open(path, 'w') as f:\n",
    "        for item in items:\n",
    "            f.write(f'{item[\"position\"]}|{item[\"artist\"]}|{item[\"music\"]}\\n')"
   ]
  },
  {
   "cell_type": "code",
   "execution_count": 31,
   "id": "418c747e-dccf-4292-a6b0-3710a221e1ba",
   "metadata": {},
   "outputs": [],
   "source": [
    "def validate_ammount(list_songs):\n",
    "    return len(list_songs) == 500"
   ]
  },
  {
   "cell_type": "markdown",
   "id": "d7836f6c-5d50-47cb-afe1-e60ccffda7ed",
   "metadata": {},
   "source": [
    "## Arquivos de **2001 a 2004**"
   ]
  },
  {
   "cell_type": "code",
   "execution_count": 49,
   "id": "1f2c6753-1ca6-4899-ba37-2f7ca42165de",
   "metadata": {},
   "outputs": [
    {
     "name": "stdout",
     "output_type": "stream",
     "text": [
      "Lista de 2001_orig.txt está como False tem 492 registros\n",
      "Lista de 2002_orig.txt está como False tem 493 registros\n",
      "Lista de 2003_orig.txt está como False tem 487 registros\n",
      "Lista de 2004_orig.txt está como False tem 484 registros\n"
     ]
    }
   ],
   "source": [
    "files = [\n",
    "    \"2001.txt\",\n",
    "    \"2002.txt\",\n",
    "    \"2003.txt\",\n",
    "    \"2004.txt\",\n",
    "]\n",
    " \n",
    "for file in files:\n",
    "    path_to_file = f\"{folder_original}{file}\"\n",
    "    contents = read_file_on_line(path_to_file)\n",
    "    \n",
    "    words_list = contents.split() \n",
    "    words_list = [word for word in words_list]\n",
    "    \n",
    "    pattern = \"[\\d]{1,}[\\.][\\s][\\D]{1,}[-][\\D]{1,}\"\n",
    "    song_list = []\n",
    "\n",
    "    itens_in_list = re.findall(pattern, contents)\n",
    "    \n",
    "    for item in itens_in_list:\n",
    "        point_position = item.find(\".\")\n",
    "        order, _ = int_try_parse(item[:4].replace(\".\", \"\"))\n",
    "        \n",
    "        song_list.append(\n",
    "                {\n",
    "                    \"position\": order,\n",
    "                    \"artist\": item[point_position + 1:].split(\"-\")[0].strip().upper(),\n",
    "                    \"music\": item[point_position + 1 :].split(\"-\")[1].strip().upper()\n",
    "                }\n",
    "            )\n",
    "        \n",
    "    save_new_file(song_list, file[:4])\n",
    "    print(f\"Lista de {file} está como {validate_ammount(song_list)} tem {len(song_list)} registros\")"
   ]
  },
  {
   "cell_type": "markdown",
   "id": "308a579d-ac16-4d69-8498-0f20f6b51f31",
   "metadata": {},
   "source": [
    "## Arquivo **2005** "
   ]
  },
  {
   "cell_type": "code",
   "execution_count": null,
   "id": "d77e03ce-7ace-4a59-8535-379b29dad0a0",
   "metadata": {},
   "outputs": [],
   "source": [
    "year = \"2005\"\n",
    "path_to_file = f\"{folder_original}{year}.txt\"\n",
    "contents = read_file_on_line(path_to_file)\n",
    "pattern = \"[\\d]{1,}[\\.][\\s][\\D]{1,}\"\n",
    "song_list = []\n",
    "\n",
    "itens_in_list = re.findall(pattern, contents)\n",
    "\n",
    "for item in itens_in_list:\n",
    "    point_position = item.find(\".\")\n",
    "    order, _ = int_try_parse(item[:4].replace(\".\", \"\"))\n",
    "\n",
    "    song_list.append(\n",
    "            {\n",
    "                \"position\": order,\n",
    "                \"artist\": item[point_position + 1:].strip().upper(),\n",
    "                \"music\": \"\"\n",
    "            }\n",
    "        )\n",
    "\n",
    "save_new_file(song_list, year)\n",
    "print(f\"Lista de {file} está como {validate_ammount(song_list)} tem {len(song_list)} registros\")"
   ]
  },
  {
   "cell_type": "markdown",
   "id": "1c0591a9-3952-40f5-ae40-252efa898ae3",
   "metadata": {},
   "source": [
    "### Identificar o nome da banda na lista e separar a música\n",
    "\n",
    "Arquivos 2005 e 2006 os nomes dos artistas e da música não tem separador"
   ]
  },
  {
   "cell_type": "code",
   "execution_count": null,
   "id": "7609c389-6859-420e-ba3e-f59ca99c3c72",
   "metadata": {},
   "outputs": [],
   "source": []
  },
  {
   "cell_type": "markdown",
   "id": "b937fca1-c9b9-495f-8199-140bfac4d594",
   "metadata": {},
   "source": [
    "## Arquivos de **2007 a 2021**"
   ]
  },
  {
   "cell_type": "code",
   "execution_count": 95,
   "id": "44ccd7a9-cc02-4d2a-88f6-c77154cc2b08",
   "metadata": {},
   "outputs": [
    {
     "name": "stdout",
     "output_type": "stream",
     "text": [
      "resources/bases/original/2007.txt 501\n",
      "Lista de 2007 está como False tem 501 registros\n",
      "resources/bases/original/2008.txt 498\n",
      "Lista de 2008 está como False tem 498 registros\n",
      "resources/bases/original/2009.txt 500\n",
      "Lista de 2009 está como True tem 500 registros\n",
      "resources/bases/original/2010.txt 500\n",
      "Lista de 2010 está como True tem 500 registros\n",
      "resources/bases/original/2011.txt 500\n",
      "Lista de 2011 está como True tem 500 registros\n",
      "resources/bases/original/2012.txt 500\n",
      "Lista de 2012 está como True tem 500 registros\n",
      "resources/bases/original/2013.txt 499\n",
      "Lista de 2013 está como False tem 499 registros\n",
      "resources/bases/original/2014.txt 500\n",
      "Lista de 2014 está como True tem 500 registros\n",
      "resources/bases/original/2015.txt 500\n",
      "Lista de 2015 está como True tem 500 registros\n",
      "resources/bases/original/2016.txt 500\n",
      "Lista de 2016 está como True tem 500 registros\n",
      "resources/bases/original/2017.txt 500\n",
      "Lista de 2017 está como True tem 500 registros\n",
      "resources/bases/original/2018.txt 500\n",
      "Lista de 2018 está como True tem 500 registros\n",
      "resources/bases/original/2019.txt 500\n",
      "Lista de 2019 está como True tem 500 registros\n",
      "resources/bases/original/2020.txt 500\n",
      "Lista de 2020 está como True tem 500 registros\n",
      "resources/bases/original/2021.txt 500\n",
      "Lista de 2021 está como True tem 500 registros\n"
     ]
    }
   ],
   "source": [
    "for year in range(2007, 2022, 1):\n",
    "    path_to_file = f\"{folder_original}{year}.txt\"\n",
    "    lines = read_file_lines(path_to_file)\n",
    "    \n",
    "    print(path_to_file, len(lines))\n",
    "    song_list = []\n",
    "    \n",
    "    for item in lines:\n",
    "        pattern = \"([\\d]{1,3})(.*)\"\n",
    "        itens_in_list = re.findall(pattern, item)\n",
    "        \n",
    "        # print(itens_in_list)\n",
    "                \n",
    "        order = itens_in_list[0][0]\n",
    "        artist_music = itens_in_list[0][1].strip()\n",
    "        \n",
    "        # print(artist_music)\n",
    "        \n",
    "        if artist_music.startswith(\"-\") or artist_music.startswith(\".\"):\n",
    "            artist_music = artist_music[1:].strip()\n",
    "        \n",
    "        try:\n",
    "            artist = artist_music.split(\"-\")[0].upper().strip()\n",
    "            music = artist_music.split(\"-\")[1].upper().strip()\n",
    "        \n",
    "        except IndexError:\n",
    "            artist = \"??\"\n",
    "            music = \"??\"\n",
    "        \n",
    "        song_list.append(\n",
    "                {\n",
    "                    \"position\": order,\n",
    "                    \"artist\": artist,\n",
    "                    \"music\": music\n",
    "                }\n",
    "            )\n",
    "        \n",
    "    save_new_file(song_list, year)\n",
    "    print(f\"Lista de {year} está como {validate_ammount(song_list)} tem {len(song_list)} registros\")\n"
   ]
  },
  {
   "cell_type": "code",
   "execution_count": null,
   "id": "863d81c4-c669-48a0-bef4-06cb049dbdba",
   "metadata": {},
   "outputs": [],
   "source": []
  }
 ],
 "metadata": {
  "kernelspec": {
   "display_name": "Python 3 (ipykernel)",
   "language": "python",
   "name": "python3"
  },
  "language_info": {
   "codemirror_mode": {
    "name": "ipython",
    "version": 3
   },
   "file_extension": ".py",
   "mimetype": "text/x-python",
   "name": "python",
   "nbconvert_exporter": "python",
   "pygments_lexer": "ipython3",
   "version": "3.8.12"
  }
 },
 "nbformat": 4,
 "nbformat_minor": 5
}
