{
 "cells": [
  {
   "cell_type": "markdown",
   "id": "4854dd5c-c058-4d4f-b936-f38b9664cd29",
   "metadata": {},
   "source": [
    "## **Script para tratar os arquivos originais da base**"
   ]
  },
  {
   "cell_type": "markdown",
   "id": "a48cc36f-f5a4-4784-aebf-9db07839b804",
   "metadata": {},
   "source": [
    "Esse processo não analisará o conteúdo dos dados, apenas nas raras excecões.\n",
    "\n",
    "A finalidade aqui é preparar as informações para serem carregadas no outro Jupyter onde serão feitas as análises\n",
    "\n",
    "O arquivo 2000_orig.txt o valor da ordem da música está depois do nome da banda/música\n",
    "\n",
    "Os arquivos de 2001 a 2005 o valor da ordem da música está antes do nome da banda/música, e tem um \".\" (ponto) depois do valor\n",
    "\n",
    "O arquivo de 2006 o valor da ordem da música está antes do nome da banda/música, e não tem um \".\" (ponto) depois do valor"
   ]
  },
  {
   "cell_type": "code",
   "execution_count": 1,
   "id": "10a88086-0716-4756-af5e-c5ac6ccd47f4",
   "metadata": {},
   "outputs": [],
   "source": [
    "import json\n",
    "import os\n",
    "import re\n",
    "from collections import Counter"
   ]
  },
  {
   "cell_type": "code",
   "execution_count": 2,
   "id": "30910af9-57be-456d-9990-28e7a990a9b3",
   "metadata": {},
   "outputs": [],
   "source": [
    "folder_original = \"resources/bases/original/\"\n",
    "folder_threated = \"resources/bases/tratada/\""
   ]
  },
  {
   "cell_type": "code",
   "execution_count": 3,
   "id": "e5df7ac9-6afd-421b-9fe8-8048c4e3b03d",
   "metadata": {},
   "outputs": [],
   "source": [
    "def int_try_parse(value):\n",
    "    try:\n",
    "        return int(value), True\n",
    "    except ValueError:\n",
    "        return value, False\n",
    "    except Exception:\n",
    "        return value, False"
   ]
  },
  {
   "cell_type": "code",
   "execution_count": 4,
   "id": "4fa4dea2-1b52-4986-bec3-ad97e8624bb6",
   "metadata": {},
   "outputs": [],
   "source": [
    "def read_file_on_line(path_to_file: str):\n",
    "    \"\"\"\n",
    "    Read a file and return one single line\n",
    "    \"\"\"\n",
    "    with open(path_to_file) as f:\n",
    "        return f.read()"
   ]
  },
  {
   "cell_type": "code",
   "execution_count": 15,
   "id": "5f1ba8d9-3acc-47e1-8114-399465a015e1",
   "metadata": {},
   "outputs": [],
   "source": [
    "def read_file_lines(path_to_file: str):\n",
    "    \"\"\"\n",
    "    Read a file and return one single line\n",
    "    \"\"\"\n",
    "    if not os.path.exists(path_to_file):\n",
    "        return []\n",
    "    \n",
    "    with open(path_to_file) as f:\n",
    "        return [stripped for line in f if (stripped := line.strip())]"
   ]
  },
  {
   "cell_type": "code",
   "execution_count": 6,
   "id": "ed022661-1fe9-431f-9340-55aa32a55b71",
   "metadata": {},
   "outputs": [],
   "source": [
    "def threat_artist_with_hyphen_in_name(text):\n",
    "    text = text.upper()\n",
    "    text = text.replace(\"A-HA\", \"A HA\")\n",
    "    text = text.replace(\"B-52\", \"B 52\")\n",
    "    return text\n",
    "    "
   ]
  },
  {
   "cell_type": "markdown",
   "id": "e4b870c6-d3d4-4d31-baea-3bc7dfe77a8b",
   "metadata": {},
   "source": [
    "## Tratando base **2000**"
   ]
  },
  {
   "cell_type": "code",
   "execution_count": 9,
   "id": "b8f6971e-fb53-4417-b136-cb8bfb4f046a",
   "metadata": {},
   "outputs": [],
   "source": [
    "file = \"2000_orig.txt\""
   ]
  },
  {
   "cell_type": "code",
   "execution_count": 10,
   "id": "3acb1299-0894-46b2-9391-01b4e51cc423",
   "metadata": {},
   "outputs": [],
   "source": [
    "path_to_file = f\"{folder_original}{file}\"\n",
    "contents = read_file_on_line(path_to_file)"
   ]
  },
  {
   "cell_type": "code",
   "execution_count": null,
   "id": "53b2201a-308f-49d5-9e98-bd240675d665",
   "metadata": {},
   "outputs": [],
   "source": [
    "print(contents)"
   ]
  },
  {
   "cell_type": "code",
   "execution_count": 43,
   "id": "70b4ccdb-db61-4b9b-8a95-a7b4f806b2d6",
   "metadata": {},
   "outputs": [],
   "source": [
    "stop_words = [\n",
    "    \"Repetiu\",\n",
    "    \"Repetiu 457 e 319\",\n",
    "    \"Problemas\",\n",
    "    \"2.\"\n",
    "]"
   ]
  },
  {
   "cell_type": "code",
   "execution_count": 44,
   "id": "d214c7bf-50fc-474b-951e-a0ab91d6d1a7",
   "metadata": {
    "tags": []
   },
   "outputs": [],
   "source": [
    "words_list = contents.split() "
   ]
  },
  {
   "cell_type": "code",
   "execution_count": 45,
   "id": "4156bbfc-c851-4e1d-bc52-3fcf9453f98a",
   "metadata": {},
   "outputs": [],
   "source": [
    "words_list = [word for word in words_list if word not in stop_words]"
   ]
  },
  {
   "cell_type": "markdown",
   "id": "f94116b5-f4d7-4106-af79-5e5cad652477",
   "metadata": {},
   "source": [
    "### Checar se tem número de ordem repetido\n",
    "\n",
    "se tiver valor repetido, tem que procurar qual é a repetição e tratar como remover"
   ]
  },
  {
   "cell_type": "code",
   "execution_count": 59,
   "id": "60d86d17-f109-4522-9571-80cfab432529",
   "metadata": {},
   "outputs": [
    {
     "name": "stdout",
     "output_type": "stream",
     "text": [
      "False\n"
     ]
    }
   ],
   "source": [
    "list_order = [word for word in words_list if word.isnumeric()]\n",
    "group_by_order = Counter(list_order)\n",
    "\n",
    "print(all(c > 1 for c in group_by_order.values()))"
   ]
  },
  {
   "cell_type": "code",
   "execution_count": null,
   "id": "f5295386-b372-4bba-a9cf-25ee81067209",
   "metadata": {},
   "outputs": [],
   "source": [
    "index_previous = 0\n",
    "\n",
    "song_list = []\n",
    "\n",
    "for index, word in enumerate(words_list[:100]):\n",
    "    if word.isnumeric():             \n",
    "        song_list.append(\n",
    "            {\n",
    "                \"position\": word,\n",
    "                \"artist\": \" \".join(words_list[index_previous:index]),\n",
    "                \"music\": \"\"\n",
    "            }\n",
    "        )\n",
    "        index_previous = index + 1\n",
    "\n",
    "print(json.dumps(song_list, indent=4, sort_keys=True))"
   ]
  },
  {
   "cell_type": "code",
   "execution_count": 37,
   "id": "8cbffb53-8534-4dd5-a7b9-8ee12307196b",
   "metadata": {},
   "outputs": [],
   "source": [
    "def save_new_file(items: list, year: int):\n",
    "    path = f\"{folder_threated}{year}_ok.txt\"\n",
    "    \n",
    "    if os.path.exists(path):\n",
    "        os.remove(path)\n",
    "   \n",
    "    with open(path, 'w') as f:\n",
    "        for item in items:\n",
    "            f.write(f'{item[\"position\"]}|{item[\"artist\"]}|{item[\"music\"]}\\n')"
   ]
  },
  {
   "cell_type": "code",
   "execution_count": 31,
   "id": "418c747e-dccf-4292-a6b0-3710a221e1ba",
   "metadata": {},
   "outputs": [],
   "source": [
    "def validate_ammount(list_songs):\n",
    "    return len(list_songs) == 500"
   ]
  },
  {
   "cell_type": "markdown",
   "id": "d7836f6c-5d50-47cb-afe1-e60ccffda7ed",
   "metadata": {},
   "source": [
    "## Arquivos de **2001 a 2004**"
   ]
  },
  {
   "cell_type": "code",
   "execution_count": 49,
   "id": "1f2c6753-1ca6-4899-ba37-2f7ca42165de",
   "metadata": {},
   "outputs": [
    {
     "name": "stdout",
     "output_type": "stream",
     "text": [
      "Lista de 2001_orig.txt está como False tem 492 registros\n",
      "Lista de 2002_orig.txt está como False tem 493 registros\n",
      "Lista de 2003_orig.txt está como False tem 487 registros\n",
      "Lista de 2004_orig.txt está como False tem 484 registros\n"
     ]
    }
   ],
   "source": [
    "files = [\n",
    "    \"2001.txt\",\n",
    "    \"2002.txt\",\n",
    "    \"2003.txt\",\n",
    "    \"2004.txt\",\n",
    "]\n",
    " \n",
    "for file in files:\n",
    "    path_to_file = f\"{folder_original}{file}\"\n",
    "    contents = read_file_on_line(path_to_file)\n",
    "    \n",
    "    words_list = contents.split() \n",
    "    words_list = [word for word in words_list]\n",
    "    \n",
    "    pattern = \"[\\d]{1,}[\\.][\\s][\\D]{1,}[-][\\D]{1,}\"\n",
    "    song_list = []\n",
    "\n",
    "    itens_in_list = re.findall(pattern, contents)\n",
    "    \n",
    "    for item in itens_in_list:\n",
    "        point_position = item.find(\".\")\n",
    "        order, _ = int_try_parse(item[:4].replace(\".\", \"\"))\n",
    "        \n",
    "        song_list.append(\n",
    "                {\n",
    "                    \"position\": order,\n",
    "                    \"artist\": item[point_position + 1:].split(\"-\")[0].strip().upper(),\n",
    "                    \"music\": item[point_position + 1 :].split(\"-\")[1].strip().upper()\n",
    "                }\n",
    "            )\n",
    "        \n",
    "    save_new_file(song_list, file[:4])\n",
    "    print(f\"Lista de {file} está como {validate_ammount(song_list)} tem {len(song_list)} registros\")"
   ]
  },
  {
   "cell_type": "markdown",
   "id": "308a579d-ac16-4d69-8498-0f20f6b51f31",
   "metadata": {},
   "source": [
    "## Arquivo **2005** "
   ]
  },
  {
   "cell_type": "code",
   "execution_count": null,
   "id": "d77e03ce-7ace-4a59-8535-379b29dad0a0",
   "metadata": {},
   "outputs": [],
   "source": [
    "year = \"2005\"\n",
    "path_to_file = f\"{folder_original}{year}.txt\"\n",
    "contents = read_file_on_line(path_to_file)\n",
    "pattern = \"[\\d]{1,}[\\.][\\s][\\D]{1,}\"\n",
    "song_list = []\n",
    "\n",
    "itens_in_list = re.findall(pattern, contents)\n",
    "\n",
    "for item in itens_in_list:\n",
    "    point_position = item.find(\".\")\n",
    "    order, _ = int_try_parse(item[:4].replace(\".\", \"\"))\n",
    "\n",
    "    song_list.append(\n",
    "            {\n",
    "                \"position\": order,\n",
    "                \"artist\": item[point_position + 1:].strip().upper(),\n",
    "                \"music\": \"\"\n",
    "            }\n",
    "        )\n",
    "\n",
    "save_new_file(song_list, year)\n",
    "print(f\"Lista de {file} está como {validate_ammount(song_list)} tem {len(song_list)} registros\")"
   ]
  },
  {
   "cell_type": "markdown",
   "id": "1c0591a9-3952-40f5-ae40-252efa898ae3",
   "metadata": {},
   "source": [
    "### Identificar o nome da banda na lista e separar a música\n",
    "\n",
    "Arquivos 2005 e 2006 os nomes dos artistas e da música não tem separador"
   ]
  },
  {
   "cell_type": "code",
   "execution_count": null,
   "id": "7609c389-6859-420e-ba3e-f59ca99c3c72",
   "metadata": {},
   "outputs": [],
   "source": []
  },
  {
   "cell_type": "markdown",
   "id": "b937fca1-c9b9-495f-8199-140bfac4d594",
   "metadata": {},
   "source": [
    "## Arquivos de **2007 a 2021**"
   ]
  },
  {
   "cell_type": "code",
   "execution_count": 95,
   "id": "44ccd7a9-cc02-4d2a-88f6-c77154cc2b08",
   "metadata": {},
   "outputs": [
    {
     "name": "stdout",
     "output_type": "stream",
     "text": [
      "resources/bases/original/2007.txt 501\n",
      "Lista de 2007 está como False tem 501 registros\n",
      "resources/bases/original/2008.txt 498\n",
      "Lista de 2008 está como False tem 498 registros\n",
      "resources/bases/original/2009.txt 500\n",
      "Lista de 2009 está como True tem 500 registros\n",
      "resources/bases/original/2010.txt 500\n",
      "Lista de 2010 está como True tem 500 registros\n",
      "resources/bases/original/2011.txt 500\n",
      "Lista de 2011 está como True tem 500 registros\n",
      "resources/bases/original/2012.txt 500\n",
      "Lista de 2012 está como True tem 500 registros\n",
      "resources/bases/original/2013.txt 499\n",
      "Lista de 2013 está como False tem 499 registros\n",
      "resources/bases/original/2014.txt 500\n",
      "Lista de 2014 está como True tem 500 registros\n",
      "resources/bases/original/2015.txt 500\n",
      "Lista de 2015 está como True tem 500 registros\n",
      "resources/bases/original/2016.txt 500\n",
      "Lista de 2016 está como True tem 500 registros\n",
      "resources/bases/original/2017.txt 500\n",
      "Lista de 2017 está como True tem 500 registros\n",
      "resources/bases/original/2018.txt 500\n",
      "Lista de 2018 está como True tem 500 registros\n",
      "resources/bases/original/2019.txt 500\n",
      "Lista de 2019 está como True tem 500 registros\n",
      "resources/bases/original/2020.txt 500\n",
      "Lista de 2020 está como True tem 500 registros\n",
      "resources/bases/original/2021.txt 500\n",
      "Lista de 2021 está como True tem 500 registros\n"
     ]
    }
   ],
   "source": [
    "for year in range(2007, 2022, 1):\n",
    "    path_to_file = f\"{folder_original}{year}.txt\"\n",
    "    lines = read_file_lines(path_to_file)\n",
    "    \n",
    "    print(path_to_file, len(lines))\n",
    "    song_list = []\n",
    "    \n",
    "    for item in lines:\n",
    "        pattern = \"([\\d]{1,3})(.*)\"\n",
    "        itens_in_list = re.findall(pattern, item)\n",
    "        \n",
    "        # print(itens_in_list)\n",
    "                \n",
    "        order = itens_in_list[0][0]\n",
    "        artist_music = itens_in_list[0][1].strip()\n",
    "        \n",
    "        # print(artist_music)\n",
    "        \n",
    "        if artist_music.startswith(\"-\") or artist_music.startswith(\".\"):\n",
    "            artist_music = artist_music[1:].strip()\n",
    "        \n",
    "        try:\n",
    "            artist = artist_music.split(\"-\")[0].upper().strip()\n",
    "            music = artist_music.split(\"-\")[1].upper().strip()\n",
    "        \n",
    "        except IndexError:\n",
    "            artist = \"??\"\n",
    "            music = \"??\"\n",
    "        \n",
    "        song_list.append(\n",
    "                {\n",
    "                    \"position\": order,\n",
    "                    \"artist\": artist,\n",
    "                    \"music\": music\n",
    "                }\n",
    "            )\n",
    "        \n",
    "    save_new_file(song_list, year)\n",
    "    print(f\"Lista de {year} está como {validate_ammount(song_list)} tem {len(song_list)} registros\")\n"
   ]
  },
  {
   "cell_type": "markdown",
   "id": "2e89f194-337c-4fb9-9f23-ff80d15cbd0e",
   "metadata": {},
   "source": [
    "## Validar qual posição está faltando ou está duplicada no arquivo tratado"
   ]
  },
  {
   "cell_type": "code",
   "execution_count": 20,
   "id": "dc865b53-255d-4914-9925-52ddc03cd643",
   "metadata": {},
   "outputs": [
    {
     "name": "stdout",
     "output_type": "stream",
     "text": [
      "No arquivo 2001_ok.txt não foram encontradas as posições [66, 83, 252, 275, 319, 320, 360, 396]\n",
      "\n",
      "No arquivo 2002_ok.txt não foram encontradas as posições [64, 155, 230, 247, 344, 348, 386]\n",
      "\n",
      "No arquivo 2003_ok.txt não foram encontradas as posições [39, 74, 82, 167, 198, 205, 206, 218, 282, 345, 373, 439, 444]\n",
      "\n",
      "No arquivo 2004_ok.txt não foram encontradas as posições [1, 2, 20, 31, 37, 49, 60, 81, 98, 106, 118, 154, 160, 165, 342, 390]\n",
      "\n",
      "No arquivo 2005_ok.txt não foram encontradas as posições [105, 260, 298, 389, 433, 484, 487]\n",
      "\n",
      "No arquivo 2006_ok.txt não foram encontradas as posições [1, 2, 3, 4, 5, 6, 7, 8, 9, 10, 11, 12, 13, 14, 15, 16, 17, 18, 19, 20, 21, 22, 23, 24, 25, 26, 27, 28, 29, 30, 31, 32, 33, 34, 35, 36, 37, 38, 39, 40, 41, 42, 43, 44, 45, 46, 47, 48, 49, 50, 51, 52, 53, 54, 55, 56, 57, 58, 59, 60, 61, 62, 63, 64, 65, 66, 67, 68, 69, 70, 71, 72, 73, 74, 75, 76, 77, 78, 79, 80, 81, 82, 83, 84, 85, 86, 87, 88, 89, 90, 91, 92, 93, 94, 95, 96, 97, 98, 99, 100, 101, 102, 103, 104, 105, 106, 107, 108, 109, 110, 111, 112, 113, 114, 115, 116, 117, 118, 119, 120, 121, 122, 123, 124, 125, 126, 127, 128, 129, 130, 131, 132, 133, 134, 135, 136, 137, 138, 139, 140, 141, 142, 143, 144, 145, 146, 147, 148, 149, 150, 151, 152, 153, 154, 155, 156, 157, 158, 159, 160, 161, 162, 163, 164, 165, 166, 167, 168, 169, 170, 171, 172, 173, 174, 175, 176, 177, 178, 179, 180, 181, 182, 183, 184, 185, 186, 187, 188, 189, 190, 191, 192, 193, 194, 195, 196, 197, 198, 199, 200, 201, 202, 203, 204, 205, 206, 207, 208, 209, 210, 211, 212, 213, 214, 215, 216, 217, 218, 219, 220, 221, 222, 223, 224, 225, 226, 227, 228, 229, 230, 231, 232, 233, 234, 235, 236, 237, 238, 239, 240, 241, 242, 243, 244, 245, 246, 247, 248, 249, 250, 251, 252, 253, 254, 255, 256, 257, 258, 259, 260, 261, 262, 263, 264, 265, 266, 267, 268, 269, 270, 271, 272, 273, 274, 275, 276, 277, 278, 279, 280, 281, 282, 283, 284, 285, 286, 287, 288, 289, 290, 291, 292, 293, 294, 295, 296, 297, 298, 299, 300, 301, 302, 303, 304, 305, 306, 307, 308, 309, 310, 311, 312, 313, 314, 315, 316, 317, 318, 319, 320, 321, 322, 323, 324, 325, 326, 327, 328, 329, 330, 331, 332, 333, 334, 335, 336, 337, 338, 339, 340, 341, 342, 343, 344, 345, 346, 347, 348, 349, 350, 351, 352, 353, 354, 355, 356, 357, 358, 359, 360, 361, 362, 363, 364, 365, 366, 367, 368, 369, 370, 371, 372, 373, 374, 375, 376, 377, 378, 379, 380, 381, 382, 383, 384, 385, 386, 387, 388, 389, 390, 391, 392, 393, 394, 395, 396, 397, 398, 399, 400, 401, 402, 403, 404, 405, 406, 407, 408, 409, 410, 411, 412, 413, 414, 415, 416, 417, 418, 419, 420, 421, 422, 423, 424, 425, 426, 427, 428, 429, 430, 431, 432, 433, 434, 435, 436, 437, 438, 439, 440, 441, 442, 443, 444, 445, 446, 447, 448, 449, 450, 451, 452, 453, 454, 455, 456, 457, 458, 459, 460, 461, 462, 463, 464, 465, 466, 467, 468, 469, 470, 471, 472, 473, 474, 475, 476, 477, 478, 479, 480, 481, 482, 483, 484, 485, 486, 487, 488, 489, 490, 491, 492, 493, 494, 495, 496, 497, 498, 499, 500]\n",
      "\n",
      "No arquivo 2007_ok.txt não foram encontradas as posições [49, 293]\n",
      "\n",
      "No arquivo 2008_ok.txt não foram encontradas as posições [250, 300]\n",
      "\n",
      "No arquivo 2011_ok.txt não foram encontradas as posições [300]\n",
      "\n",
      "No arquivo 2013_ok.txt não foram encontradas as posições [333]\n",
      "\n"
     ]
    }
   ],
   "source": [
    "positions_real = [i for i in range(1, 501)]\n",
    "\n",
    "for year in range(2001, 2022, 1):\n",
    "    path_to_file = f\"{folder_threated}{year}_ok.txt\"\n",
    "    lines = read_file_lines(path_to_file)\n",
    "    positions = [int(line.split(\"|\")[0]) for line in lines]\n",
    "    \n",
    "    positions_not_found = []\n",
    "    \n",
    "    if len(positions) != positions_real:\n",
    "        positions_not_found = [pos for pos in positions_real if pos not in positions]\n",
    "        \n",
    "    \n",
    "    if positions_not_found:\n",
    "        print(f\"No arquivo {year}_ok.txt não foram encontradas as posições {positions_not_found}\\n\")\n",
    "    "
   ]
  },
  {
   "cell_type": "code",
   "execution_count": 23,
   "id": "fb15e13b-bc39-4727-adc4-f9a72eccef33",
   "metadata": {},
   "outputs": [
    {
     "name": "stdout",
     "output_type": "stream",
     "text": [
      "No arquivo 2007_ok.txt tem posições duplicadas. São eles: \n",
      "\n",
      "[296, 187, 186] \n",
      "\n",
      "No arquivo 2021_ok.txt tem posições duplicadas. São eles: \n",
      "\n",
      "[1] \n",
      "\n"
     ]
    }
   ],
   "source": [
    "for year in range(2001, 2022, 1):\n",
    "    path_to_file = f\"{folder_threated}{year}_ok.txt\"\n",
    "    lines = read_file_lines(path_to_file)\n",
    "    positions = [int(line.split(\"|\")[0]) for line in lines]   \n",
    "    \n",
    "    if any(positions.count(element) > 1 for element in positions):       \n",
    "        print(f\"No arquivo {year}_ok.txt tem posições duplicadas. São eles: \\n\")\n",
    "        print([item for item, count in Counter(positions).items() if count > 1], \"\\n\")\n"
   ]
  },
  {
   "cell_type": "code",
   "execution_count": null,
   "id": "284d47e0-8baf-4325-9e1b-3572a9aed486",
   "metadata": {},
   "outputs": [],
   "source": []
  }
 ],
 "metadata": {
  "kernelspec": {
   "display_name": "Python 3 (ipykernel)",
   "language": "python",
   "name": "python3"
  },
  "language_info": {
   "codemirror_mode": {
    "name": "ipython",
    "version": 3
   },
   "file_extension": ".py",
   "mimetype": "text/x-python",
   "name": "python",
   "nbconvert_exporter": "python",
   "pygments_lexer": "ipython3",
   "version": "3.8.12"
  }
 },
 "nbformat": 4,
 "nbformat_minor": 5
}
