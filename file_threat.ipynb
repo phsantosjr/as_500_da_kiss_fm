{
 "cells": [
  {
   "cell_type": "markdown",
   "id": "4854dd5c-c058-4d4f-b936-f38b9664cd29",
   "metadata": {},
   "source": [
    "## **Script para tratar os arquivos originais da base**"
   ]
  },
  {
   "cell_type": "markdown",
   "id": "a48cc36f-f5a4-4784-aebf-9db07839b804",
   "metadata": {},
   "source": [
    "Esse processo não analisará o conteúdo dos dados, apenas nas raras excecões.\n",
    "\n",
    "A finalidade aqui é preparar as informações para serem carregadas no outro Jupyter onde serão feitas as análises\n",
    "\n",
    "O arquivo 2000_orig.txt o valor da ordem da música está depois do nome da banda/música\n",
    "\n",
    "Os arquivos de 2001 a 2005 o valor da ordem da música está antes do nome da banda/música, e tem um \".\" (ponto) depois do valor\n",
    "\n",
    "O arquivo de 2006 o valor da ordem da música está antes do nome da banda/música, e não tem um \".\" (ponto) depois do valor"
   ]
  },
  {
   "cell_type": "code",
   "execution_count": 1,
   "id": "10a88086-0716-4756-af5e-c5ac6ccd47f4",
   "metadata": {},
   "outputs": [],
   "source": [
    "import json\n",
    "import os\n",
    "import re\n",
    "from collections import Counter"
   ]
  },
  {
   "cell_type": "code",
   "execution_count": 2,
   "id": "30910af9-57be-456d-9990-28e7a990a9b3",
   "metadata": {},
   "outputs": [],
   "source": [
    "folder_original = \"resources/bases/original/\"\n",
    "folder_threated = \"resources/bases/tratada/\""
   ]
  },
  {
   "cell_type": "code",
   "execution_count": 3,
   "id": "e5df7ac9-6afd-421b-9fe8-8048c4e3b03d",
   "metadata": {},
   "outputs": [],
   "source": [
    "def int_try_parse(value):\n",
    "    try:\n",
    "        return int(value), True\n",
    "    except ValueError:\n",
    "        return value, False\n",
    "    except Exception:\n",
    "        return value, False"
   ]
  },
  {
   "cell_type": "code",
   "execution_count": 4,
   "id": "4fa4dea2-1b52-4986-bec3-ad97e8624bb6",
   "metadata": {},
   "outputs": [],
   "source": [
    "def read_file_on_line(path_to_file: str):\n",
    "    \"\"\"\n",
    "    Read a file and return one single line\n",
    "    \"\"\"\n",
    "    with open(path_to_file) as f:\n",
    "        return f.read()"
   ]
  },
  {
   "cell_type": "code",
   "execution_count": 5,
   "id": "5f1ba8d9-3acc-47e1-8114-399465a015e1",
   "metadata": {},
   "outputs": [],
   "source": [
    "def read_file_lines(path_to_file: str):\n",
    "    \"\"\"\n",
    "    Read a file and return one single line\n",
    "    \"\"\"\n",
    "    if not os.path.exists(path_to_file):\n",
    "        return []\n",
    "    \n",
    "    with open(path_to_file) as f:\n",
    "        return [stripped for line in f if (stripped := line.strip())]"
   ]
  },
  {
   "cell_type": "code",
   "execution_count": 6,
   "id": "ed022661-1fe9-431f-9340-55aa32a55b71",
   "metadata": {},
   "outputs": [],
   "source": [
    "def threat_artist_with_hyphen_in_name(text):\n",
    "    text = text.upper()\n",
    "    text = text.replace(\"A-HA\", \"A HA\")\n",
    "    text = text.replace(\"B-52\", \"B 52\")\n",
    "    return text\n",
    "    "
   ]
  },
  {
   "cell_type": "code",
   "execution_count": 7,
   "id": "8cbffb53-8534-4dd5-a7b9-8ee12307196b",
   "metadata": {},
   "outputs": [],
   "source": [
    "def save_new_file(items: list, year: int):\n",
    "    path = f\"{folder_threated}{year}_ok.txt\"\n",
    "    \n",
    "    if os.path.exists(path):\n",
    "        os.remove(path)\n",
    "   \n",
    "    with open(path, 'w') as f:\n",
    "        for item in items:\n",
    "            f.write(f'{item[\"position\"]}|{item[\"artist\"]}|{item[\"music\"]}\\n')"
   ]
  },
  {
   "cell_type": "code",
   "execution_count": 8,
   "id": "418c747e-dccf-4292-a6b0-3710a221e1ba",
   "metadata": {},
   "outputs": [],
   "source": [
    "def validate_ammount(list_songs):\n",
    "    return len(list_songs) == 500"
   ]
  },
  {
   "cell_type": "markdown",
   "id": "d7836f6c-5d50-47cb-afe1-e60ccffda7ed",
   "metadata": {},
   "source": [
    "### **Script abaixo está como exemplo, não precisa rodá-lo**\n",
    "\n",
    "Caso precise para estudo, está ai disponível"
   ]
  },
  {
   "cell_type": "code",
   "execution_count": null,
   "id": "1f2c6753-1ca6-4899-ba37-2f7ca42165de",
   "metadata": {},
   "outputs": [],
   "source": [
    "\"\"\"\n",
    "files = [\n",
    "    \"2003.txt\",\n",
    "    \"2004.txt\",\n",
    "]\n",
    " \n",
    "for file in files:\n",
    "    path_to_file = f\"{folder_original}{file}\"\n",
    "    contents = read_file_on_line(path_to_file)\n",
    "    \n",
    "    words_list = contents.split() \n",
    "    words_list = [word for word in words_list]\n",
    "    \n",
    "    pattern = \"[\\d]{1,}[\\.][\\s][\\D]{1,}[-][\\D]{1,}\"\n",
    "    song_list = []\n",
    "\n",
    "    itens_in_list = re.findall(pattern, contents)\n",
    "    \n",
    "    for item in itens_in_list:\n",
    "        point_position = item.find(\".\")\n",
    "        order, _ = int_try_parse(item[:4].replace(\".\", \"\"))\n",
    "        \n",
    "        song_list.append(\n",
    "                {\n",
    "                    \"position\": order,\n",
    "                    \"artist\": item[point_position + 1:].split(\"-\")[0].strip().upper(),\n",
    "                    \"music\": item[point_position + 1 :].split(\"-\")[1].strip().upper()\n",
    "                }\n",
    "            )\n",
    "        \n",
    "    save_new_file(song_list, file[:4])\n",
    "    print(f\"Lista de {file} está como {validate_ammount(song_list)} tem {len(song_list)} registros\")\n",
    "\"\"\""
   ]
  },
  {
   "cell_type": "markdown",
   "id": "308a579d-ac16-4d69-8498-0f20f6b51f31",
   "metadata": {},
   "source": [
    "### **Script abaixo está como exemplo, não precisa rodá-lo**\n",
    "\n",
    "Caso precise para estudo, está ai disponível"
   ]
  },
  {
   "cell_type": "code",
   "execution_count": null,
   "id": "d77e03ce-7ace-4a59-8535-379b29dad0a0",
   "metadata": {},
   "outputs": [],
   "source": [
    "\"\"\"\n",
    "\n",
    "year = \"2005\"\n",
    "path_to_file = f\"{folder_original}{year}.txt\"\n",
    "contents = read_file_on_line(path_to_file)\n",
    "pattern = \"[\\d]{1,}[\\.][\\s][\\D]{1,}\"\n",
    "song_list = []\n",
    "\n",
    "itens_in_list = re.findall(pattern, contents)\n",
    "\n",
    "for item in itens_in_list:\n",
    "    point_position = item.find(\".\")\n",
    "    order, _ = int_try_parse(item[:4].replace(\".\", \"\"))\n",
    "\n",
    "    song_list.append(\n",
    "            {\n",
    "                \"position\": order,\n",
    "                \"artist\": item[point_position + 1:].strip().upper(),\n",
    "                \"music\": \"\"\n",
    "            }\n",
    "        )\n",
    "\n",
    "save_new_file(song_list, year)\n",
    "print(f\"Lista de {file} está como {validate_ammount(song_list)} tem {len(song_list)} registros\")\n",
    "\n",
    "\n",
    "\"\"\""
   ]
  },
  {
   "cell_type": "markdown",
   "id": "1c0591a9-3952-40f5-ae40-252efa898ae3",
   "metadata": {},
   "source": [
    "### Identificar o nome da banda na lista e separar a música"
   ]
  },
  {
   "cell_type": "markdown",
   "id": "b937fca1-c9b9-495f-8199-140bfac4d594",
   "metadata": {},
   "source": [
    "## Arquivos de **2000 a 2021**"
   ]
  },
  {
   "cell_type": "code",
   "execution_count": null,
   "id": "44ccd7a9-cc02-4d2a-88f6-c77154cc2b08",
   "metadata": {},
   "outputs": [],
   "source": [
    "years = [year for year in range(2000, 2022, 1)]\n",
    "\n",
    "for year in years:\n",
    "    path_to_file = f\"{folder_original}{year}.txt\"\n",
    "    lines = read_file_lines(path_to_file)\n",
    "    \n",
    "    print(path_to_file, len(lines))\n",
    "    song_list = []\n",
    "    \n",
    "    for item in lines:\n",
    "        pattern = \"([\\d]{1,3})(.*)\"\n",
    "        itens_in_list = re.findall(pattern, item)\n",
    "        \n",
    "        # print(itens_in_list)\n",
    "                \n",
    "        order = itens_in_list[0][0]\n",
    "        artist_music = itens_in_list[0][1].strip()\n",
    "        \n",
    "        # print(artist_music)\n",
    "        \n",
    "        if artist_music.startswith(\"-\") or artist_music.startswith(\".\"):\n",
    "            artist_music = artist_music[1:].strip()\n",
    "        \n",
    "        try:\n",
    "            artist = artist_music.split(\"-\")[0].upper().strip()\n",
    "            music = artist_music.split(\"-\")[1].upper().strip()\n",
    "        \n",
    "        except IndexError:\n",
    "            artist = \"??\"\n",
    "            music = \"??\"\n",
    "        \n",
    "        song_list.append(\n",
    "                {\n",
    "                    \"position\": order,\n",
    "                    \"artist\": artist,\n",
    "                    \"music\": music\n",
    "                }\n",
    "            )\n",
    "        \n",
    "    save_new_file(song_list, year)\n",
    "    print(f\"Lista de {year} está como {validate_ammount(song_list)} tem {len(song_list)} registros\")\n"
   ]
  },
  {
   "cell_type": "markdown",
   "id": "2e89f194-337c-4fb9-9f23-ff80d15cbd0e",
   "metadata": {},
   "source": [
    "## Validar qual posição está faltando ou está duplicada no arquivo tratado"
   ]
  },
  {
   "cell_type": "code",
   "execution_count": 30,
   "id": "dc865b53-255d-4914-9925-52ddc03cd643",
   "metadata": {},
   "outputs": [],
   "source": [
    "positions_real = [i for i in range(1, 501)]\n",
    "\n",
    "for year in range(2000, 2022, 1):\n",
    "    path_to_file = f\"{folder_threated}{year}_ok.txt\"\n",
    "    lines = read_file_lines(path_to_file)\n",
    "    positions = [int(line.split(\"|\")[0]) for line in lines]\n",
    "    \n",
    "    positions_not_found = []\n",
    "    \n",
    "    if len(positions) != positions_real:\n",
    "        positions_not_found = [pos for pos in positions_real if pos not in positions]\n",
    "        \n",
    "    \n",
    "    if positions_not_found:\n",
    "        print(f\"No arquivo {year}_ok.txt não foram encontradas as posições {positions_not_found}\\n\")\n",
    "    "
   ]
  },
  {
   "cell_type": "markdown",
   "id": "a0dd9730-45e7-4842-a781-d71216e511b7",
   "metadata": {},
   "source": [
    "## Identificar posições que estão faltando\n",
    "\n",
    "Os ajustes foram feitos manualmente nos arquivos originais, usando o arquivo do Eduardo como base."
   ]
  },
  {
   "cell_type": "code",
   "execution_count": 31,
   "id": "fb15e13b-bc39-4727-adc4-f9a72eccef33",
   "metadata": {},
   "outputs": [],
   "source": [
    "for year in range(2000, 2022, 1):\n",
    "    path_to_file = f\"{folder_threated}{year}_ok.txt\"\n",
    "    lines = read_file_lines(path_to_file)\n",
    "    positions = [int(line.split(\"|\")[0]) for line in lines]   \n",
    "    \n",
    "    if any(positions.count(element) > 1 for element in positions):       \n",
    "        print(f\"No arquivo {year}_ok.txt tem posições duplicadas. São eles: \\n\")\n",
    "        print([item for item, count in Counter(positions).items() if count > 1], \"\\n\")\n"
   ]
  },
  {
   "cell_type": "code",
   "execution_count": null,
   "id": "284d47e0-8baf-4325-9e1b-3572a9aed486",
   "metadata": {},
   "outputs": [],
   "source": []
  }
 ],
 "metadata": {
  "kernelspec": {
   "display_name": "Python 3 (ipykernel)",
   "language": "python",
   "name": "python3"
  },
  "language_info": {
   "codemirror_mode": {
    "name": "ipython",
    "version": 3
   },
   "file_extension": ".py",
   "mimetype": "text/x-python",
   "name": "python",
   "nbconvert_exporter": "python",
   "pygments_lexer": "ipython3",
   "version": "3.8.12"
  }
 },
 "nbformat": 4,
 "nbformat_minor": 5
}
